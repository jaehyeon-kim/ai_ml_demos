{
 "cells": [
  {
   "cell_type": "code",
   "execution_count": 28,
   "metadata": {},
   "outputs": [],
   "source": [
    "import os\n",
    "\n",
    "os.environ[\"TF_CPP_MIN_LOG_LEVEL\"] = \"2\"\n",
    "\n",
    "import tensorflow as tf\n",
    "import keras\n",
    "from keras import layers\n",
    "from keras.datasets import mnist"
   ]
  },
  {
   "cell_type": "code",
   "execution_count": 29,
   "metadata": {},
   "outputs": [
    {
     "name": "stdout",
     "output_type": "stream",
     "text": [
      "(60000, 28, 28)\n",
      "(60000,)\n",
      "(60000, 784)\n",
      "(10000, 784)\n"
     ]
    }
   ],
   "source": [
    "#### load data\n",
    "(x_train, y_train), (x_test, y_test) = mnist.load_data()\n",
    "print(x_train.shape)\n",
    "# print(x_train[1, 1:4])\n",
    "print(y_train.shape)\n",
    "# -1:  to keep whatever value in the first dimension\n",
    "# / 255.0: normalise between 0 and 1\n",
    "x_train = x_train.reshape(-1, 28 * 28).astype(\"float32\") / 255.0\n",
    "x_test = x_test.reshape(-1, 28 * 28).astype(\"float32\") / 255.0\n",
    "print(x_train.shape)\n",
    "print(x_test.shape)\n"
   ]
  },
  {
   "cell_type": "code",
   "execution_count": 31,
   "metadata": {},
   "outputs": [
    {
     "data": {
      "text/html": [
       "<pre style=\"white-space:pre;overflow-x:auto;line-height:normal;font-family:Menlo,'DejaVu Sans Mono',consolas,'Courier New',monospace\"><span style=\"font-weight: bold\">Model: \"sequential_3\"</span>\n",
       "</pre>\n"
      ],
      "text/plain": [
       "\u001b[1mModel: \"sequential_3\"\u001b[0m\n"
      ]
     },
     "metadata": {},
     "output_type": "display_data"
    },
    {
     "data": {
      "text/html": [
       "<pre style=\"white-space:pre;overflow-x:auto;line-height:normal;font-family:Menlo,'DejaVu Sans Mono',consolas,'Courier New',monospace\">┏━━━━━━━━━━━━━━━━━━━━━━━━━━━━━━━━━┳━━━━━━━━━━━━━━━━━━━━━━━━┳━━━━━━━━━━━━━━━┓\n",
       "┃<span style=\"font-weight: bold\"> Layer (type)                    </span>┃<span style=\"font-weight: bold\"> Output Shape           </span>┃<span style=\"font-weight: bold\">       Param # </span>┃\n",
       "┡━━━━━━━━━━━━━━━━━━━━━━━━━━━━━━━━━╇━━━━━━━━━━━━━━━━━━━━━━━━╇━━━━━━━━━━━━━━━┩\n",
       "│ dense_11 (<span style=\"color: #0087ff; text-decoration-color: #0087ff\">Dense</span>)                │ (<span style=\"color: #00d7ff; text-decoration-color: #00d7ff\">None</span>, <span style=\"color: #00af00; text-decoration-color: #00af00\">512</span>)            │       <span style=\"color: #00af00; text-decoration-color: #00af00\">401,920</span> │\n",
       "├─────────────────────────────────┼────────────────────────┼───────────────┤\n",
       "│ dense_12 (<span style=\"color: #0087ff; text-decoration-color: #0087ff\">Dense</span>)                │ (<span style=\"color: #00d7ff; text-decoration-color: #00d7ff\">None</span>, <span style=\"color: #00af00; text-decoration-color: #00af00\">256</span>)            │       <span style=\"color: #00af00; text-decoration-color: #00af00\">131,328</span> │\n",
       "├─────────────────────────────────┼────────────────────────┼───────────────┤\n",
       "│ dense_13 (<span style=\"color: #0087ff; text-decoration-color: #0087ff\">Dense</span>)                │ (<span style=\"color: #00d7ff; text-decoration-color: #00d7ff\">None</span>, <span style=\"color: #00af00; text-decoration-color: #00af00\">10</span>)             │         <span style=\"color: #00af00; text-decoration-color: #00af00\">2,570</span> │\n",
       "└─────────────────────────────────┴────────────────────────┴───────────────┘\n",
       "</pre>\n"
      ],
      "text/plain": [
       "┏━━━━━━━━━━━━━━━━━━━━━━━━━━━━━━━━━┳━━━━━━━━━━━━━━━━━━━━━━━━┳━━━━━━━━━━━━━━━┓\n",
       "┃\u001b[1m \u001b[0m\u001b[1mLayer (type)                   \u001b[0m\u001b[1m \u001b[0m┃\u001b[1m \u001b[0m\u001b[1mOutput Shape          \u001b[0m\u001b[1m \u001b[0m┃\u001b[1m \u001b[0m\u001b[1m      Param #\u001b[0m\u001b[1m \u001b[0m┃\n",
       "┡━━━━━━━━━━━━━━━━━━━━━━━━━━━━━━━━━╇━━━━━━━━━━━━━━━━━━━━━━━━╇━━━━━━━━━━━━━━━┩\n",
       "│ dense_11 (\u001b[38;5;33mDense\u001b[0m)                │ (\u001b[38;5;45mNone\u001b[0m, \u001b[38;5;34m512\u001b[0m)            │       \u001b[38;5;34m401,920\u001b[0m │\n",
       "├─────────────────────────────────┼────────────────────────┼───────────────┤\n",
       "│ dense_12 (\u001b[38;5;33mDense\u001b[0m)                │ (\u001b[38;5;45mNone\u001b[0m, \u001b[38;5;34m256\u001b[0m)            │       \u001b[38;5;34m131,328\u001b[0m │\n",
       "├─────────────────────────────────┼────────────────────────┼───────────────┤\n",
       "│ dense_13 (\u001b[38;5;33mDense\u001b[0m)                │ (\u001b[38;5;45mNone\u001b[0m, \u001b[38;5;34m10\u001b[0m)             │         \u001b[38;5;34m2,570\u001b[0m │\n",
       "└─────────────────────────────────┴────────────────────────┴───────────────┘\n"
      ]
     },
     "metadata": {},
     "output_type": "display_data"
    },
    {
     "data": {
      "text/html": [
       "<pre style=\"white-space:pre;overflow-x:auto;line-height:normal;font-family:Menlo,'DejaVu Sans Mono',consolas,'Courier New',monospace\"><span style=\"font-weight: bold\"> Total params: </span><span style=\"color: #00af00; text-decoration-color: #00af00\">535,818</span> (2.04 MB)\n",
       "</pre>\n"
      ],
      "text/plain": [
       "\u001b[1m Total params: \u001b[0m\u001b[38;5;34m535,818\u001b[0m (2.04 MB)\n"
      ]
     },
     "metadata": {},
     "output_type": "display_data"
    },
    {
     "data": {
      "text/html": [
       "<pre style=\"white-space:pre;overflow-x:auto;line-height:normal;font-family:Menlo,'DejaVu Sans Mono',consolas,'Courier New',monospace\"><span style=\"font-weight: bold\"> Trainable params: </span><span style=\"color: #00af00; text-decoration-color: #00af00\">535,818</span> (2.04 MB)\n",
       "</pre>\n"
      ],
      "text/plain": [
       "\u001b[1m Trainable params: \u001b[0m\u001b[38;5;34m535,818\u001b[0m (2.04 MB)\n"
      ]
     },
     "metadata": {},
     "output_type": "display_data"
    },
    {
     "data": {
      "text/html": [
       "<pre style=\"white-space:pre;overflow-x:auto;line-height:normal;font-family:Menlo,'DejaVu Sans Mono',consolas,'Courier New',monospace\"><span style=\"font-weight: bold\"> Non-trainable params: </span><span style=\"color: #00af00; text-decoration-color: #00af00\">0</span> (0.00 B)\n",
       "</pre>\n"
      ],
      "text/plain": [
       "\u001b[1m Non-trainable params: \u001b[0m\u001b[38;5;34m0\u001b[0m (0.00 B)\n"
      ]
     },
     "metadata": {},
     "output_type": "display_data"
    },
    {
     "name": "stdout",
     "output_type": "stream",
     "text": [
      "None\n"
     ]
    }
   ],
   "source": [
    "#### sequential api - convenient but not flexible, one input and one output\n",
    "## all layers at once\n",
    "model = keras.Sequential(\n",
    "    [\n",
    "        keras.Input(\n",
    "            shape=(28 * 28,)\n",
    "        ),  # adding model input allows to run model summary, which gives more info\n",
    "        layers.Dense(512, activation=\"relu\"),\n",
    "        layers.Dense(256, activation=\"relu\"),\n",
    "        layers.Dense(10),  # 1 layer for each digit\n",
    "    ]\n",
    ")\n",
    "\n",
    "print(model.summary())"
   ]
  },
  {
   "cell_type": "code",
   "execution_count": null,
   "metadata": {},
   "outputs": [
    {
     "data": {
      "text/html": [
       "<pre style=\"white-space:pre;overflow-x:auto;line-height:normal;font-family:Menlo,'DejaVu Sans Mono',consolas,'Courier New',monospace\"><span style=\"font-weight: bold\">Model: \"sequential_4\"</span>\n",
       "</pre>\n"
      ],
      "text/plain": [
       "\u001b[1mModel: \"sequential_4\"\u001b[0m\n"
      ]
     },
     "metadata": {},
     "output_type": "display_data"
    },
    {
     "data": {
      "text/html": [
       "<pre style=\"white-space:pre;overflow-x:auto;line-height:normal;font-family:Menlo,'DejaVu Sans Mono',consolas,'Courier New',monospace\">┏━━━━━━━━━━━━━━━━━━━━━━━━━━━━━━━━━┳━━━━━━━━━━━━━━━━━━━━━━━━┳━━━━━━━━━━━━━━━┓\n",
       "┃<span style=\"font-weight: bold\"> Layer (type)                    </span>┃<span style=\"font-weight: bold\"> Output Shape           </span>┃<span style=\"font-weight: bold\">       Param # </span>┃\n",
       "┡━━━━━━━━━━━━━━━━━━━━━━━━━━━━━━━━━╇━━━━━━━━━━━━━━━━━━━━━━━━╇━━━━━━━━━━━━━━━┩\n",
       "│ dense_14 (<span style=\"color: #0087ff; text-decoration-color: #0087ff\">Dense</span>)                │ (<span style=\"color: #00d7ff; text-decoration-color: #00d7ff\">None</span>, <span style=\"color: #00af00; text-decoration-color: #00af00\">512</span>)            │       <span style=\"color: #00af00; text-decoration-color: #00af00\">401,920</span> │\n",
       "└─────────────────────────────────┴────────────────────────┴───────────────┘\n",
       "</pre>\n"
      ],
      "text/plain": [
       "┏━━━━━━━━━━━━━━━━━━━━━━━━━━━━━━━━━┳━━━━━━━━━━━━━━━━━━━━━━━━┳━━━━━━━━━━━━━━━┓\n",
       "┃\u001b[1m \u001b[0m\u001b[1mLayer (type)                   \u001b[0m\u001b[1m \u001b[0m┃\u001b[1m \u001b[0m\u001b[1mOutput Shape          \u001b[0m\u001b[1m \u001b[0m┃\u001b[1m \u001b[0m\u001b[1m      Param #\u001b[0m\u001b[1m \u001b[0m┃\n",
       "┡━━━━━━━━━━━━━━━━━━━━━━━━━━━━━━━━━╇━━━━━━━━━━━━━━━━━━━━━━━━╇━━━━━━━━━━━━━━━┩\n",
       "│ dense_14 (\u001b[38;5;33mDense\u001b[0m)                │ (\u001b[38;5;45mNone\u001b[0m, \u001b[38;5;34m512\u001b[0m)            │       \u001b[38;5;34m401,920\u001b[0m │\n",
       "└─────────────────────────────────┴────────────────────────┴───────────────┘\n"
      ]
     },
     "metadata": {},
     "output_type": "display_data"
    },
    {
     "data": {
      "text/html": [
       "<pre style=\"white-space:pre;overflow-x:auto;line-height:normal;font-family:Menlo,'DejaVu Sans Mono',consolas,'Courier New',monospace\"><span style=\"font-weight: bold\"> Total params: </span><span style=\"color: #00af00; text-decoration-color: #00af00\">401,920</span> (1.53 MB)\n",
       "</pre>\n"
      ],
      "text/plain": [
       "\u001b[1m Total params: \u001b[0m\u001b[38;5;34m401,920\u001b[0m (1.53 MB)\n"
      ]
     },
     "metadata": {},
     "output_type": "display_data"
    },
    {
     "data": {
      "text/html": [
       "<pre style=\"white-space:pre;overflow-x:auto;line-height:normal;font-family:Menlo,'DejaVu Sans Mono',consolas,'Courier New',monospace\"><span style=\"font-weight: bold\"> Trainable params: </span><span style=\"color: #00af00; text-decoration-color: #00af00\">401,920</span> (1.53 MB)\n",
       "</pre>\n"
      ],
      "text/plain": [
       "\u001b[1m Trainable params: \u001b[0m\u001b[38;5;34m401,920\u001b[0m (1.53 MB)\n"
      ]
     },
     "metadata": {},
     "output_type": "display_data"
    },
    {
     "data": {
      "text/html": [
       "<pre style=\"white-space:pre;overflow-x:auto;line-height:normal;font-family:Menlo,'DejaVu Sans Mono',consolas,'Courier New',monospace\"><span style=\"font-weight: bold\"> Non-trainable params: </span><span style=\"color: #00af00; text-decoration-color: #00af00\">0</span> (0.00 B)\n",
       "</pre>\n"
      ],
      "text/plain": [
       "\u001b[1m Non-trainable params: \u001b[0m\u001b[38;5;34m0\u001b[0m (0.00 B)\n"
      ]
     },
     "metadata": {},
     "output_type": "display_data"
    },
    {
     "name": "stdout",
     "output_type": "stream",
     "text": [
      "None\n",
      "Epoch 1/5\n",
      "1875/1875 - 7s - 4ms/step - accuracy: 0.9439 - loss: 0.1862\n",
      "Epoch 2/5\n",
      "1875/1875 - 5s - 3ms/step - accuracy: 0.9758 - loss: 0.0784\n",
      "Epoch 3/5\n",
      "1875/1875 - 5s - 3ms/step - accuracy: 0.9822 - loss: 0.0563\n",
      "Epoch 4/5\n",
      "1875/1875 - 5s - 3ms/step - accuracy: 0.9870 - loss: 0.0414\n",
      "Epoch 5/5\n",
      "1875/1875 - 6s - 3ms/step - accuracy: 0.9894 - loss: 0.0327\n",
      "313/313 - 0s - 1ms/step - accuracy: 0.9815 - loss: 0.0707\n"
     ]
    },
    {
     "data": {
      "text/plain": [
       "[0.07071422040462494, 0.9815000295639038]"
      ]
     },
     "execution_count": 32,
     "metadata": {},
     "output_type": "execute_result"
    }
   ],
   "source": [
    "## adding layers one by one\n",
    "model = keras.Sequential()\n",
    "model.add(keras.Input(shape=(28 * 28,)))\n",
    "model.add(layers.Dense(512, activation=\"relu\"))\n",
    "\n",
    "print(model.summary())  # common way of debugging\n",
    "\n",
    "model.add(layers.Dense(256, activation=\"relu\"))\n",
    "model.add(layers.Dense(10))\n",
    "\n",
    "model.compile(\n",
    "    # SparseCategorical ... <-- no hot-encoding\n",
    "    loss=keras.losses.SparseCategoricalCrossentropy(from_logits=True),\n",
    "    optimizer=keras.optimizers.Adam(learning_rate=0.001),\n",
    "    metrics=[\"accuracy\"],\n",
    ")\n",
    "\n",
    "model.fit(x_train, y_train, batch_size=32, epochs=5, verbose=2)\n",
    "\n",
    "model.evaluate(x_test, y_test, batch_size=32, verbose=2)"
   ]
  },
  {
   "cell_type": "code",
   "execution_count": 38,
   "metadata": {},
   "outputs": [
    {
     "name": "stdout",
     "output_type": "stream",
     "text": [
      "\u001b[1m 159/1875\u001b[0m \u001b[32m━\u001b[0m\u001b[37m━━━━━━━━━━━━━━━━━━━\u001b[0m \u001b[1m1s\u001b[0m 956us/step"
     ]
    },
    {
     "name": "stderr",
     "output_type": "stream",
     "text": [
      "/home/jaehyeon/projects/ai_ml_demos/venv/lib/python3.10/site-packages/keras/src/models/functional.py:238: UserWarning: The structure of `inputs` doesn't match the expected structure.\n",
      "Expected: ['keras_tensor_49']\n",
      "Received: inputs=Tensor(shape=(32, 784))\n",
      "  warnings.warn(msg)\n"
     ]
    },
    {
     "name": "stdout",
     "output_type": "stream",
     "text": [
      "\u001b[1m1875/1875\u001b[0m \u001b[32m━━━━━━━━━━━━━━━━━━━━\u001b[0m\u001b[37m\u001b[0m \u001b[1m2s\u001b[0m 873us/step\n",
      "(60000, 256)\n",
      "\u001b[1m1875/1875\u001b[0m \u001b[32m━━━━━━━━━━━━━━━━━━━━\u001b[0m\u001b[37m\u001b[0m \u001b[1m2s\u001b[0m 884us/step\n",
      "(60000, 256)\n",
      "\u001b[1m1875/1875\u001b[0m \u001b[32m━━━━━━━━━━━━━━━━━━━━\u001b[0m\u001b[37m\u001b[0m \u001b[1m2s\u001b[0m 1ms/step\n",
      "(60000, 512)\n",
      "(60000, 256)\n",
      "(60000, 10)\n"
     ]
    }
   ],
   "source": [
    "## get features of particular layer\n",
    "model = keras.Sequential()\n",
    "model.add(keras.Input(shape=(28 * 28,)))\n",
    "model.add(layers.Dense(512, activation=\"relu\", name=\"first_layer\"))\n",
    "model.add(layers.Dense(256, activation=\"relu\", name=\"second_layer\"))\n",
    "model.add(layers.Dense(10))\n",
    "\n",
    "\n",
    "model1 = keras.Model(inputs=model.inputs, outputs=[model.layers[-2].output])\n",
    "feature1 = model1.predict(x_train)\n",
    "print(feature1.shape)\n",
    "\n",
    "model2 = keras.Model(\n",
    "    inputs=model.inputs, outputs=[model.get_layer(\"second_layer\").output]\n",
    ")\n",
    "feature2 = model2.predict(x_train)\n",
    "print(feature2.shape)\n",
    "\n",
    "models = keras.Model(\n",
    "    inputs=model.inputs, outputs=[layer.output for layer in model.layers]\n",
    ")\n",
    "features = models.predict(x_train)\n",
    "for feat in features:\n",
    "    print(feat.shape)"
   ]
  },
  {
   "cell_type": "code",
   "execution_count": 36,
   "metadata": {},
   "outputs": [
    {
     "name": "stdout",
     "output_type": "stream",
     "text": [
      "Epoch 1/5\n",
      "1875/1875 - 5s - 3ms/step - accuracy: 0.9442 - loss: 0.1860\n",
      "Epoch 2/5\n",
      "1875/1875 - 5s - 3ms/step - accuracy: 0.9758 - loss: 0.0787\n",
      "Epoch 3/5\n",
      "1875/1875 - 5s - 3ms/step - accuracy: 0.9829 - loss: 0.0541\n",
      "Epoch 4/5\n",
      "1875/1875 - 5s - 3ms/step - accuracy: 0.9874 - loss: 0.0400\n",
      "Epoch 5/5\n",
      "1875/1875 - 5s - 3ms/step - accuracy: 0.9882 - loss: 0.0346\n",
      "313/313 - 0s - 1ms/step - accuracy: 0.9784 - loss: 0.0777\n"
     ]
    },
    {
     "data": {
      "text/plain": [
       "[0.07772306352853775, 0.9783999919891357]"
      ]
     },
     "execution_count": 36,
     "metadata": {},
     "output_type": "execute_result"
    }
   ],
   "source": [
    "#### Functional api - a bit more flexible\n",
    "inputs = keras.Input(shape=(28 * 28,))\n",
    "x = layers.Dense(512, activation=\"relu\", name=\"first_layer\")(inputs)\n",
    "x = layers.Dense(256, activation=\"relu\", name=\"second_layer\")(x)\n",
    "outputs = layers.Dense(10, activation=\"softmax\")(x)\n",
    "\n",
    "model = keras.Model(inputs=inputs, outputs=outputs)\n",
    "\n",
    "print(model.summary())\n",
    "\n",
    "model.compile(\n",
    "    loss=keras.losses.SparseCategoricalCrossentropy(from_logits=False),\n",
    "    optimizer=keras.optimizers.Adam(learning_rate=0.001),\n",
    "    metrics=[\"accuracy\"],\n",
    ")\n",
    "\n",
    "model.fit(x_train, y_train, batch_size=32, epochs=5, verbose=2)\n",
    "\n",
    "model.evaluate(x_test, y_test, batch_size=32, verbose=2)"
   ]
  },
  {
   "cell_type": "code",
   "execution_count": 50,
   "metadata": {},
   "outputs": [
    {
     "name": "stdout",
     "output_type": "stream",
     "text": [
      "Epoch 1/30\n",
      "1200/1200 - 4s - 4ms/step - accuracy: 0.9434 - loss: 0.1908\n",
      "Epoch 2/30\n",
      "1200/1200 - 4s - 3ms/step - accuracy: 0.9767 - loss: 0.0755\n",
      "Epoch 3/30\n",
      "1200/1200 - 4s - 3ms/step - accuracy: 0.9840 - loss: 0.0510\n",
      "Epoch 4/30\n",
      "1200/1200 - 3s - 3ms/step - accuracy: 0.9878 - loss: 0.0387\n",
      "Epoch 5/30\n",
      "1200/1200 - 3s - 3ms/step - accuracy: 0.9898 - loss: 0.0306\n",
      "Epoch 6/30\n",
      "1200/1200 - 4s - 3ms/step - accuracy: 0.9915 - loss: 0.0258\n",
      "Epoch 7/30\n",
      "1200/1200 - 4s - 3ms/step - accuracy: 0.9927 - loss: 0.0231\n",
      "Epoch 8/30\n",
      "1200/1200 - 4s - 3ms/step - accuracy: 0.9943 - loss: 0.0172\n",
      "Epoch 9/30\n",
      "1200/1200 - 4s - 3ms/step - accuracy: 0.9938 - loss: 0.0188\n",
      "Epoch 10/30\n",
      "1200/1200 - 4s - 3ms/step - accuracy: 0.9956 - loss: 0.0134\n",
      "Epoch 11/30\n",
      "1200/1200 - 4s - 3ms/step - accuracy: 0.9955 - loss: 0.0143\n",
      "Epoch 12/30\n",
      "1200/1200 - 4s - 3ms/step - accuracy: 0.9953 - loss: 0.0145\n",
      "Epoch 13/30\n",
      "1200/1200 - 4s - 3ms/step - accuracy: 0.9961 - loss: 0.0114\n",
      "Epoch 14/30\n",
      "1200/1200 - 4s - 3ms/step - accuracy: 0.9965 - loss: 0.0123\n",
      "Epoch 15/30\n",
      "1200/1200 - 4s - 3ms/step - accuracy: 0.9975 - loss: 0.0087\n",
      "Epoch 16/30\n",
      "1200/1200 - 3s - 3ms/step - accuracy: 0.9966 - loss: 0.0114\n",
      "Epoch 17/30\n",
      "1200/1200 - 4s - 3ms/step - accuracy: 0.9972 - loss: 0.0102\n",
      "Epoch 18/30\n",
      "1200/1200 - 3s - 3ms/step - accuracy: 0.9973 - loss: 0.0092\n",
      "Epoch 19/30\n",
      "1200/1200 - 3s - 3ms/step - accuracy: 0.9964 - loss: 0.0120\n",
      "Epoch 20/30\n",
      "1200/1200 - 3s - 3ms/step - accuracy: 0.9981 - loss: 0.0066\n",
      "Epoch 21/30\n",
      "1200/1200 - 4s - 3ms/step - accuracy: 0.9971 - loss: 0.0104\n",
      "Epoch 22/30\n",
      "1200/1200 - 4s - 3ms/step - accuracy: 0.9972 - loss: 0.0091\n",
      "Epoch 23/30\n",
      "1200/1200 - 3s - 3ms/step - accuracy: 0.9977 - loss: 0.0077\n",
      "Epoch 24/30\n",
      "1200/1200 - 3s - 3ms/step - accuracy: 0.9976 - loss: 0.0086\n",
      "Epoch 25/30\n",
      "1200/1200 - 3s - 3ms/step - accuracy: 0.9978 - loss: 0.0075\n",
      "Epoch 26/30\n",
      "1200/1200 - 3s - 3ms/step - accuracy: 0.9982 - loss: 0.0071\n",
      "Epoch 27/30\n",
      "1200/1200 - 3s - 3ms/step - accuracy: 0.9976 - loss: 0.0082\n",
      "Epoch 28/30\n",
      "1200/1200 - 4s - 3ms/step - accuracy: 0.9986 - loss: 0.0053\n",
      "Epoch 29/30\n",
      "1200/1200 - 3s - 3ms/step - accuracy: 0.9981 - loss: 0.0078\n",
      "Epoch 30/30\n",
      "1200/1200 - 3s - 3ms/step - accuracy: 0.9976 - loss: 0.0084\n",
      "200/200 - 0s - 2ms/step - accuracy: 0.9836 - loss: 0.1163\n"
     ]
    },
    {
     "data": {
      "text/plain": [
       "[0.11630605161190033, 0.9836000204086304]"
      ]
     },
     "execution_count": 50,
     "metadata": {},
     "output_type": "execute_result"
    }
   ],
   "source": [
    "## try to achieve 98.2%+ on the test data\n",
    "## 98.36%, batch size to 50, epochs to 30\n",
    "model = keras.Sequential()\n",
    "model.add(keras.Input(shape=(28 * 28,)))\n",
    "model.add(layers.Dense(512, activation=\"relu\"))\n",
    "model.add(layers.Dense(256, activation=\"relu\"))\n",
    "model.add(layers.Dense(10))\n",
    "\n",
    "model.compile(\n",
    "    loss=keras.losses.SparseCategoricalCrossentropy(from_logits=True),\n",
    "    optimizer=keras.optimizers.Adam(learning_rate=0.001),\n",
    "    metrics=[\"accuracy\"],\n",
    ")\n",
    "\n",
    "model.fit(x_train, y_train, batch_size=50, epochs=30, verbose=2)\n",
    "\n",
    "model.evaluate(x_test, y_test, batch_size=50, verbose=2)"
   ]
  },
  {
   "cell_type": "code",
   "execution_count": 52,
   "metadata": {},
   "outputs": [
    {
     "name": "stdout",
     "output_type": "stream",
     "text": [
      "Epoch 1/5\n",
      "1875/1875 - 5s - 3ms/step - accuracy: 0.7729 - loss: 1.0189\n",
      "Epoch 2/5\n",
      "1875/1875 - 5s - 3ms/step - accuracy: 0.8874 - loss: 0.4375\n",
      "Epoch 3/5\n",
      "1875/1875 - 5s - 2ms/step - accuracy: 0.9031 - loss: 0.3566\n",
      "Epoch 4/5\n",
      "1875/1875 - 5s - 3ms/step - accuracy: 0.9122 - loss: 0.3187\n",
      "Epoch 5/5\n",
      "1875/1875 - 5s - 2ms/step - accuracy: 0.9187 - loss: 0.2945\n",
      "313/313 - 0s - 1ms/step - accuracy: 0.9261 - loss: 0.2706\n"
     ]
    },
    {
     "data": {
      "text/plain": [
       "[0.27060666680336, 0.9261000156402588]"
      ]
     },
     "execution_count": 52,
     "metadata": {},
     "output_type": "execute_result"
    }
   ],
   "source": [
    "## different optimizers than adam eg) gradient descent with momentum, adagrad and rmsprop\n",
    "model = keras.Sequential()\n",
    "model.add(keras.Input(shape=(28 * 28,)))\n",
    "model.add(layers.Dense(512, activation=\"relu\"))\n",
    "model.add(layers.Dense(256, activation=\"relu\"))\n",
    "model.add(layers.Dense(10))\n",
    "\n",
    "model.compile(\n",
    "    loss=keras.losses.SparseCategoricalCrossentropy(from_logits=True),\n",
    "    optimizer=keras.optimizers.Adagrad(learning_rate=0.001),\n",
    "    metrics=[\"accuracy\"],\n",
    ")\n",
    "\n",
    "model.fit(x_train, y_train, batch_size=32, epochs=5, verbose=2)\n",
    "\n",
    "model.evaluate(x_test, y_test, batch_size=32, verbose=2)"
   ]
  },
  {
   "cell_type": "code",
   "execution_count": null,
   "metadata": {},
   "outputs": [
    {
     "name": "stdout",
     "output_type": "stream",
     "text": [
      "Epoch 1/5\n",
      "1875/1875 - 6s - 3ms/step - accuracy: 0.9027 - loss: 1.4637\n",
      "Epoch 2/5\n",
      "1875/1875 - 5s - 3ms/step - accuracy: 0.9457 - loss: 0.2011\n",
      "Epoch 3/5\n",
      "1875/1875 - 5s - 3ms/step - accuracy: 0.9558 - loss: 0.1619\n",
      "Epoch 4/5\n",
      "1875/1875 - 5s - 3ms/step - accuracy: 0.9618 - loss: 0.1448\n",
      "Epoch 5/5\n",
      "1875/1875 - 5s - 3ms/step - accuracy: 0.9662 - loss: 0.1274\n",
      "313/313 - 0s - 1ms/step - accuracy: 0.9601 - loss: 0.1529\n"
     ]
    },
    {
     "data": {
      "text/plain": [
       "[0.15287744998931885, 0.960099995136261]"
      ]
     },
     "execution_count": 53,
     "metadata": {},
     "output_type": "execute_result"
    }
   ],
   "source": [
    "## check impact of normalization\n",
    "## lower performance\n",
    "(x_train, y_train), (x_test, y_test) = mnist.load_data()\n",
    "x_train = x_train.reshape(-1, 28 * 28).astype(\"float32\")\n",
    "x_test = x_test.reshape(-1, 28 * 28).astype(\"float32\")\n",
    "\n",
    "model = keras.Sequential()\n",
    "model.add(keras.Input(shape=(28 * 28,)))\n",
    "model.add(layers.Dense(512, activation=\"relu\"))\n",
    "model.add(layers.Dense(256, activation=\"relu\"))\n",
    "model.add(layers.Dense(10))\n",
    "\n",
    "model.compile(\n",
    "    loss=keras.losses.SparseCategoricalCrossentropy(from_logits=True),\n",
    "    optimizer=keras.optimizers.Adam(learning_rate=0.001),\n",
    "    metrics=[\"accuracy\"],\n",
    ")\n",
    "\n",
    "model.fit(x_train, y_train, batch_size=32, epochs=5, verbose=2)\n",
    "\n",
    "model.evaluate(x_test, y_test, batch_size=32, verbose=2)"
   ]
  }
 ],
 "metadata": {
  "kernelspec": {
   "display_name": "venv",
   "language": "python",
   "name": "python3"
  },
  "language_info": {
   "codemirror_mode": {
    "name": "ipython",
    "version": 3
   },
   "file_extension": ".py",
   "mimetype": "text/x-python",
   "name": "python",
   "nbconvert_exporter": "python",
   "pygments_lexer": "ipython3",
   "version": "3.10.12"
  }
 },
 "nbformat": 4,
 "nbformat_minor": 2
}
