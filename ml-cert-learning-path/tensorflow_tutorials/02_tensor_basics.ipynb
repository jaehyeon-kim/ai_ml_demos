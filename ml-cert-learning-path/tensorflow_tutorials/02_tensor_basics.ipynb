{
 "cells": [
  {
   "cell_type": "code",
   "execution_count": 61,
   "metadata": {},
   "outputs": [],
   "source": [
    "import os\n",
    "\n",
    "os.environ[\"TF_CPP_MIN_LOG_LEVEL\"] = \"2\"\n",
    "\n",
    "import tensorflow as tf\n",
    "\n",
    "# physical_devices = tf.config.list_physical_devices(\"GPU\")\n",
    "# tf.config.experimental.set_memory_growth(physical_devices[0], True)"
   ]
  },
  {
   "cell_type": "code",
   "execution_count": 62,
   "metadata": {},
   "outputs": [
    {
     "name": "stdout",
     "output_type": "stream",
     "text": [
      "tf.Tensor([[4.]], shape=(1, 1), dtype=float32)\n",
      "tf.Tensor(\n",
      "[[1 2 3]\n",
      " [4 5 6]], shape=(2, 3), dtype=int32)\n",
      "tf.Tensor(\n",
      "[[1. 1. 1.]\n",
      " [1. 1. 1.]\n",
      " [1. 1. 1.]], shape=(3, 3), dtype=float32)\n",
      "tf.Tensor(\n",
      "[[0. 0. 0.]\n",
      " [0. 0. 0.]], shape=(2, 3), dtype=float32)\n",
      "tf.Tensor(\n",
      "[[1. 0. 0.]\n",
      " [0. 1. 0.]\n",
      " [0. 0. 1.]], shape=(3, 3), dtype=float32)\n",
      "tf.Tensor(\n",
      "[[ 0.26059017 -1.1540426  -0.72014076]\n",
      " [-2.953965   -0.9442258   0.5967369 ]\n",
      " [-1.1591388   2.0547345  -0.91220784]], shape=(3, 3), dtype=float32)\n",
      "tf.Tensor([[0.81234777 0.65391314 0.70339656]], shape=(1, 3), dtype=float32)\n",
      "tf.Tensor([1 3 5 7 9], shape=(5,), dtype=int32)\n",
      "tf.Tensor([1. 3. 5. 7. 9.], shape=(5,), dtype=float32)\n"
     ]
    }
   ],
   "source": [
    "#### initialization of tensors\n",
    "x = tf.constant(4, shape=(1, 1), dtype=tf.float32)\n",
    "print(x)\n",
    "\n",
    "x = tf.constant([[1, 2, 3], [4, 5, 6]])\n",
    "print(x)\n",
    "\n",
    "x = tf.ones((3, 3))\n",
    "print(x)\n",
    "\n",
    "x = tf.zeros((2, 3))\n",
    "print(x)\n",
    "\n",
    "x = tf.eye(3)\n",
    "print(x)\n",
    "\n",
    "x = tf.random.normal((3, 3), mean=0, stddev=1)\n",
    "print(x)\n",
    "\n",
    "x = tf.random.uniform((1, 3), minval=0, maxval=1)\n",
    "print(x)\n",
    "\n",
    "x = tf.range(start=1, limit=10, delta=2)\n",
    "print(x)\n",
    "\n",
    "x = tf.cast(x, dtype=tf.float32)\n",
    "print(x)"
   ]
  },
  {
   "cell_type": "code",
   "execution_count": 63,
   "metadata": {},
   "outputs": [
    {
     "name": "stdout",
     "output_type": "stream",
     "text": [
      "tf.Tensor([10 10 10], shape=(3,), dtype=int32)\n",
      "tf.Tensor([10 10 10], shape=(3,), dtype=int32)\n",
      "tf.Tensor([-8 -6 -4], shape=(3,), dtype=int32)\n",
      "tf.Tensor([-8 -6 -4], shape=(3,), dtype=int32)\n",
      "tf.Tensor([ 9 16 21], shape=(3,), dtype=int32)\n",
      "tf.Tensor([ 9 16 21], shape=(3,), dtype=int32)\n",
      "tf.Tensor([0.11111111 0.25       0.42857143], shape=(3,), dtype=float64)\n",
      "tf.Tensor([0.11111111 0.25       0.42857143], shape=(3,), dtype=float64)\n",
      "tf.Tensor(46, shape=(), dtype=int32)\n",
      "tf.Tensor(46, shape=(), dtype=int32)\n",
      "tf.Tensor([  1  32 243], shape=(3,), dtype=int32)\n",
      "tf.Tensor(\n",
      "[[-1.2558364  1.504736   2.3037724  0.5698896]\n",
      " [ 2.0329123 -1.6721271 -4.0269356 -1.9388466]], shape=(2, 4), dtype=float32)\n",
      "tf.Tensor(\n",
      "[[-1.2558364  1.504736   2.3037724  0.5698896]\n",
      " [ 2.0329123 -1.6721271 -4.0269356 -1.9388466]], shape=(2, 4), dtype=float32)\n"
     ]
    }
   ],
   "source": [
    "#### mathematical operations\n",
    "## element wise\n",
    "x = tf.constant([1, 2, 3])\n",
    "y = tf.constant([9, 8, 7])\n",
    "z = tf.add(x, y)\n",
    "print(tf.add(x, y))\n",
    "print(x + y)\n",
    "print(tf.subtract(x, y))\n",
    "print(x - y)\n",
    "print(tf.multiply(x, y))\n",
    "print(x * y)\n",
    "print(tf.divide(x, y))\n",
    "print(x / y)\n",
    "print(tf.tensordot(x, y, axes=1))\n",
    "print(tf.reduce_sum(x * y))\n",
    "print(x**5)\n",
    "\n",
    "## matrix operation\n",
    "x = tf.random.normal((2, 3))\n",
    "y = tf.random.normal((3, 4))\n",
    "print(tf.matmul(x, y))\n",
    "print(x @ y)"
   ]
  },
  {
   "cell_type": "code",
   "execution_count": 64,
   "metadata": {},
   "outputs": [
    {
     "name": "stdout",
     "output_type": "stream",
     "text": [
      "tf.Tensor([0 1 1 2 3 1 2 3], shape=(8,), dtype=int32)\n",
      "tf.Tensor([1 1 2 3 1 2 3], shape=(7,), dtype=int32)\n",
      "tf.Tensor([1 1], shape=(2,), dtype=int32)\n",
      "tf.Tensor([0 1 3 2], shape=(4,), dtype=int32)\n",
      "tf.Tensor([3 2 1 3 2 1 1 0], shape=(8,), dtype=int32)\n",
      "tf.Tensor([0 2], shape=(2,), dtype=int32)\n",
      "tf.Tensor(\n",
      "[[1 2]\n",
      " [3 4]\n",
      " [5 6]], shape=(3, 2), dtype=int32)\n",
      "tf.Tensor([1 2], shape=(2,), dtype=int32)\n",
      "tf.Tensor([1 2], shape=(2,), dtype=int32)\n",
      "tf.Tensor(\n",
      "[[1 2]\n",
      " [3 4]], shape=(2, 2), dtype=int32)\n",
      "tf.Tensor(\n",
      "[[1 2]\n",
      " [3 4]], shape=(2, 2), dtype=int32)\n"
     ]
    }
   ],
   "source": [
    "# indexing\n",
    "x = tf.constant([0, 1, 1, 2, 3, 1, 2, 3])\n",
    "print(x[:])\n",
    "print(x[1:])\n",
    "print(x[1:3])\n",
    "print(x[::2])\n",
    "print(x[::-1])\n",
    "\n",
    "indices = tf.constant([0, 3])\n",
    "x_ind = tf.gather(x, indices)\n",
    "print(x_ind)\n",
    "\n",
    "x = tf.constant([[1, 2], [3, 4], [5, 6]])\n",
    "print(x)\n",
    "print(x[0])\n",
    "print(x[0, :])\n",
    "print(x[0:2])\n",
    "print(x[0:2, :])"
   ]
  },
  {
   "cell_type": "code",
   "execution_count": 65,
   "metadata": {},
   "outputs": [
    {
     "name": "stdout",
     "output_type": "stream",
     "text": [
      "tf.Tensor([0 1 2 3 4 5 6 7 8], shape=(9,), dtype=int32)\n",
      "tf.Tensor(\n",
      "[[0 1 2]\n",
      " [3 4 5]\n",
      " [6 7 8]], shape=(3, 3), dtype=int32)\n",
      "tf.Tensor(\n",
      "[[0 3 6]\n",
      " [1 4 7]\n",
      " [2 5 8]], shape=(3, 3), dtype=int32)\n",
      "tf.Tensor(\n",
      "[[0 3 6]\n",
      " [1 4 7]\n",
      " [2 5 8]], shape=(3, 3), dtype=int32)\n"
     ]
    }
   ],
   "source": [
    "# reshaping\n",
    "x = tf.range(9)\n",
    "print(x)\n",
    "print(tf.reshape(x, (3, 3)))\n",
    "\n",
    "x = tf.reshape(x, (3, 3))\n",
    "print(tf.transpose(x))\n",
    "print(tf.transpose(x, perm=[1, 0]))"
   ]
  }
 ],
 "metadata": {
  "kernelspec": {
   "display_name": "venv",
   "language": "python",
   "name": "python3"
  },
  "language_info": {
   "codemirror_mode": {
    "name": "ipython",
    "version": 3
   },
   "file_extension": ".py",
   "mimetype": "text/x-python",
   "name": "python",
   "nbconvert_exporter": "python",
   "pygments_lexer": "ipython3",
   "version": "3.10.12"
  }
 },
 "nbformat": 4,
 "nbformat_minor": 2
}
