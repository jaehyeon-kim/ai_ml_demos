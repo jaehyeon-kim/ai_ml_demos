{
 "cells": [
  {
   "cell_type": "markdown",
   "metadata": {
    "id": "tUgsCvCHLksw"
   },
   "source": [
    "# TensorFlow Core Learning Algorithms\n",
    "\n",
    "In this notebook we will walk through 4 fundemental machine learning algorithms. We will apply each of these algorithms to unique problems and datasets before highlighting the use cases of each.\n",
    "\n",
    "The algorithms we will focus on include:\n",
    "\n",
    "- Linear Regression\n",
    "- Classification\n",
    "- Clustering\n",
    "- Hidden Markov Models\n",
    "\n",
    "It is worth noting that there are many tools within TensorFlow that could be used to solve the problems we will see below. I have chosen the tools that I belive give the most variety and are easiest to use.\n"
   ]
  },
  {
   "cell_type": "markdown",
   "metadata": {
    "id": "sQ9iJrSbBTZB"
   },
   "source": [
    "## Hidden Markov Models\n",
    "\n",
    "\"The Hidden Markov Model is a finite set of states, each of which is associated with a (generally multidimensional) probability distribution []. Transitions among the states are governed by a set of probabilities called transition probabilities.\" (http://jedlik.phy.bme.hu/~gerjanos/HMM/node4.html)\n",
    "\n",
    "A hidden markov model works with probabilities to predict future events or states. In this section we will learn how to create a hidden markov model that can predict the weather.\n",
    "\n",
    "_This section is based on the following TensorFlow tutorial._ https://www.tensorflow.org/probability/api_docs/python/tfp/distributions/HiddenMarkovModel\n"
   ]
  },
  {
   "cell_type": "markdown",
   "metadata": {
    "id": "RKJSFk4NP0eq"
   },
   "source": [
    "### Data\n",
    "\n",
    "Let's start by discussing the type of data we use when we work with a hidden markov model.\n",
    "\n",
    "In the previous sections we worked with large datasets of 100's of different entries. For a markov model we are only interested in probability distributions that have to do with states.\n",
    "\n",
    "We can find these probabilities from large datasets or may already have these values. We'll run through an example in a second that should clear some things up, but let's discuss the components of a markov model.\n",
    "\n",
    "**States:** In each markov model we have a finite set of states. These states could be something like \"warm\" and \"cold\" or \"high\" and \"low\" or even \"red\", \"green\" and \"blue\". These states are \"hidden\" within the model, which means we do not direcly observe them.\n",
    "\n",
    "**Observations:** Each state has a particular outcome or observation associated with it based on a probability distribution. An example of this is the following: _On a hot day Tim has a 80% chance of being happy and a 20% chance of being sad._\n",
    "\n",
    "**Transitions:** Each state will have a probability defining the likelyhood of transitioning to a different state. An example is the following: _a cold day has a 30% chance of being followed by a hot day and a 70% chance of being follwed by another cold day._\n",
    "\n",
    "To create a hidden markov model we need.\n",
    "\n",
    "- States\n",
    "- Observation Distribution\n",
    "- Transition Distribution\n",
    "\n",
    "For our purpose we will assume we already have this information available as we attempt to predict the weather on a given day.\n"
   ]
  },
  {
   "cell_type": "code",
   "execution_count": 2,
   "metadata": {
    "id": "mEIk7FYD6lcF"
   },
   "outputs": [],
   "source": [
    "import tensorflow_probability as tfp  # We are using a different module from tensorflow this time\n",
    "import tensorflow as tf"
   ]
  },
  {
   "cell_type": "markdown",
   "metadata": {
    "id": "ssOcn-nIOCcV"
   },
   "source": [
    "### Weather Model\n",
    "\n",
    "Taken direclty from the TensorFlow documentation (https://www.tensorflow.org/probability/api_docs/python/tfp/distributions/HiddenMarkovModel).\n",
    "\n",
    "We will model a simple weather system and try to predict the temperature on each day given the following information.\n",
    "\n",
    "1. Cold days are encoded by a 0 and hot days are encoded by a 1.\n",
    "2. The first day in our sequence has an 80% chance of being cold.\n",
    "3. A cold day has a 30% chance of being followed by a hot day.\n",
    "4. A hot day has a 20% chance of being followed by a cold day.\n",
    "5. On each day the temperature is\n",
    "   normally distributed with mean and standard deviation 0 and 5 on\n",
    "   a cold day and mean and standard deviation 15 and 10 on a hot day.\n",
    "\n",
    "If you're unfamiliar with **standard deviation** it can be put simply as the range of expected values.\n",
    "\n",
    "In this example, on a hot day the average temperature is 15 and ranges from 5 to 25.\n",
    "\n",
    "To model this in TensorFlow we will do the following.\n"
   ]
  },
  {
   "cell_type": "code",
   "execution_count": 3,
   "metadata": {
    "id": "4LBLEJp4YlIf"
   },
   "outputs": [
    {
     "name": "stderr",
     "output_type": "stream",
     "text": [
      "W0000 00:00:1734421289.915078  266017 gpu_device.cc:2344] Cannot dlopen some GPU libraries. Please make sure the missing libraries mentioned above are installed properly if you would like to use GPU. Follow the guide at https://www.tensorflow.org/install/gpu for how to download and setup the required libraries for your platform.\n",
      "Skipping registering GPU devices...\n"
     ]
    }
   ],
   "source": [
    "tfd = tfp.distributions  # making a shortcut for later on\n",
    "initial_distribution = tfd.Categorical(probs=[0.2, 0.8])  # Refer to point 2 above\n",
    "transition_distribution = tfd.Categorical(\n",
    "    probs=[[0.5, 0.5], [0.2, 0.8]]\n",
    ")  # refer to points 3 and 4 above\n",
    "observation_distribution = tfd.Normal(\n",
    "    loc=[0.0, 15.0], scale=[5.0, 10.0]\n",
    ")  # refer to point 5 above\n",
    "\n",
    "# the loc argument represents the mean and the scale is the standard devitation"
   ]
  },
  {
   "cell_type": "markdown",
   "metadata": {
    "id": "-XtTg0l04mqc"
   },
   "source": [
    "We've now created distribution variables to model our system and it's time to create the hidden markov model.\n"
   ]
  },
  {
   "cell_type": "code",
   "execution_count": 4,
   "metadata": {
    "id": "P4M6cZww4mZk"
   },
   "outputs": [],
   "source": [
    "model = tfd.HiddenMarkovModel(\n",
    "    initial_distribution=initial_distribution,\n",
    "    transition_distribution=transition_distribution,\n",
    "    observation_distribution=observation_distribution,\n",
    "    num_steps=7,\n",
    ")"
   ]
  },
  {
   "cell_type": "markdown",
   "metadata": {
    "id": "DJ0XIA2M5gqD"
   },
   "source": [
    "The number of steps represents the number of days that we would like to predict information for. In this case we've chosen 7, an entire week.\n",
    "\n",
    "To get the **expected temperatures** on each day we can do the following.\n"
   ]
  },
  {
   "cell_type": "code",
   "execution_count": 5,
   "metadata": {
    "colab": {
     "base_uri": "https://localhost:8080/",
     "height": 34
    },
    "executionInfo": {
     "elapsed": 70774,
     "status": "ok",
     "timestamp": 1592590977141,
     "user": {
      "displayName": "Tim Ruscica",
      "photoUrl": "https://lh3.googleusercontent.com/a-/AOh14Gg_ZQYNOt3VyC4XokWtTzBAPNHMtXP3bYkRzNmL=s64",
      "userId": "15076575814848622659"
     },
     "user_tz": 240
    },
    "id": "plVVG4fi55Jv",
    "outputId": "cef2d0a3-0edf-4226-ad65-43245933109f"
   },
   "outputs": [
    {
     "name": "stdout",
     "output_type": "stream",
     "text": [
      "[11.999999 11.1      10.830001 10.748999 10.724699 10.71741  10.715222]\n"
     ]
    }
   ],
   "source": [
    "mean = model.mean()\n",
    "\n",
    "# due to the way TensorFlow works on a lower level we need to evaluate part of the graph\n",
    "# from within a session to see the value of this tensor\n",
    "\n",
    "# in the new version of tensorflow we need to use tf.compat.v1.Session() rather than just tf.Session()\n",
    "with tf.compat.v1.Session() as sess:\n",
    "    print(mean.numpy())"
   ]
  },
  {
   "cell_type": "markdown",
   "metadata": {
    "id": "RzzUGR12AkiF"
   },
   "source": [
    "## Conclusion\n",
    "\n",
    "So that's it for the core learning algorithms in TensorFlow. Hopefully you've learned about a few interesting tools that are easy to use! To practice I'd encourage you to try out some of these algorithms on different datasets.\n"
   ]
  }
 ],
 "metadata": {
  "colab": {
   "collapsed_sections": [
    "sIBZww6kOIAp",
    "UQlXWErlbhsG"
   ],
   "provenance": [
    {
     "file_id": "15Cyy2H7nT40sGR7TBN5wBvgTd57mVKay",
     "timestamp": 1734390663563
    }
   ]
  },
  "kernelspec": {
   "display_name": "venv",
   "language": "python",
   "name": "python3"
  },
  "language_info": {
   "codemirror_mode": {
    "name": "ipython",
    "version": 3
   },
   "file_extension": ".py",
   "mimetype": "text/x-python",
   "name": "python",
   "nbconvert_exporter": "python",
   "pygments_lexer": "ipython3",
   "version": "3.10.12"
  }
 },
 "nbformat": 4,
 "nbformat_minor": 0
}
