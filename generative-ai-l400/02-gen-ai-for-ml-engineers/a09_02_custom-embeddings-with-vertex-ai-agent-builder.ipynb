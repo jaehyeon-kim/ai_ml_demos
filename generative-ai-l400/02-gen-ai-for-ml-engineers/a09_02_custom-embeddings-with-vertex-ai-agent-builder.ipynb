{
 "cells": [
  {
   "cell_type": "markdown",
   "id": "ad19788d-bbb5-4e27-a1b8-5da0371ea7e9",
   "metadata": {},
   "source": [
    "## Custom Embeddings with Vertex AI Agent Builder\n",
    "\n",
    "### Overview\n",
    "This lab serves as a guide to utilizing text-embedding-004 in Vertex AI for obtaining text embeddings. It walks you through the process of converting these embeddings into the required format for Vertex AI Search. Additionally, the lab provides detailed instructions on creating a search application that utilizes custom embeddings, ensuring a seamless integration of advanced text-based search capabilities.\n",
    "\n",
    "#### Objective\n",
    "This lab showcases steps to:\n",
    "\n",
    "- Retrieve text embeddings using the [Vertex AI API](https://cloud.google.com/vertex-ai/docs/generative-ai/embeddings/get-text-embeddings)\n",
    "- Transform embeddings into the [format required by Vertex AI Search](https://cloud.google.com/generative-ai-app-builder/docs/prepare-data#unstructured)\n",
    "- [Create a search application with custom embeddings](https://cloud.google.com/generative-ai-app-builder/docs/bring-embeddings)"
   ]
  },
  {
   "cell_type": "code",
   "execution_count": 1,
   "id": "5bcf3e5c-e68d-48f7-abe9-e54b6f542d55",
   "metadata": {
    "tags": []
   },
   "outputs": [
    {
     "name": "stdout",
     "output_type": "stream",
     "text": [
      "\u001b[31mERROR: pip's dependency resolver does not currently take into account all the packages that are installed. This behaviour is the source of the following dependency conflicts.\n",
      "google-api-python-client 1.8.0 requires google-api-core<2dev,>=1.13.0, but you have google-api-core 2.24.0 which is incompatible.\u001b[0m\u001b[31m\n",
      "\u001b[0mNote: you may need to restart the kernel to use updated packages.\n"
     ]
    }
   ],
   "source": [
    "%pip install -q --upgrade --user --quiet google-cloud-aiplatform google-cloud-discoveryengine google-cloud-storage google-cloud-bigquery[pandas] google-cloud-bigquery-storage pandas ipywidgets"
   ]
  },
  {
   "cell_type": "code",
   "execution_count": 2,
   "id": "4a9db83c-50ca-4c69-a910-6c48bc7282af",
   "metadata": {
    "tags": []
   },
   "outputs": [
    {
     "name": "stdout",
     "output_type": "stream",
     "text": [
      "The google.cloud.bigquery extension is already loaded. To reload it, use:\n",
      "  %reload_ext google.cloud.bigquery\n"
     ]
    }
   ],
   "source": [
    "%load_ext google.cloud.bigquery"
   ]
  },
  {
   "cell_type": "code",
   "execution_count": 3,
   "id": "f34663f2-7452-4f0a-8c83-4f610973785f",
   "metadata": {
    "tags": []
   },
   "outputs": [
    {
     "data": {
      "text/plain": [
       "{'status': 'ok', 'restart': True}"
      ]
     },
     "execution_count": 3,
     "metadata": {},
     "output_type": "execute_result"
    }
   ],
   "source": [
    "# Automatically restart kernel after installs so that your environment can access the new packages\n",
    "import IPython\n",
    "\n",
    "app = IPython.Application.instance()\n",
    "app.kernel.do_shutdown(True)"
   ]
  },
  {
   "cell_type": "markdown",
   "id": "efae1532-aff8-4388-88cd-622d428ea775",
   "metadata": {},
   "source": [
    "Run the following code snippet in the next cell. This code imports various python libraries and modules to perform tasks related to Google Cloud Platform (GCP) services, specifically related to Vertex AI, BigQuery, Cloud Storage, and Discovery Engine."
   ]
  },
  {
   "cell_type": "code",
   "execution_count": 1,
   "id": "f1ccda25-15c1-4e7c-bf46-0ad5ffd2e0b3",
   "metadata": {
    "tags": []
   },
   "outputs": [],
   "source": [
    "from typing import List\n",
    "import requests\n",
    "import subprocess\n",
    "import time\n",
    "\n",
    "from google.api_core.client_options import ClientOptions\n",
    "from google.api_core.exceptions import GoogleAPICallError\n",
    "from google.cloud import bigquery\n",
    "from google.cloud import discoveryengine_v1alpha as discoveryengine\n",
    "from google.cloud import storage\n",
    "\n",
    "from tqdm import tqdm  # to show a progress bar\n",
    "\n",
    "import vertexai\n",
    "from vertexai.language_models import TextEmbeddingModel, TextEmbeddingInput\n",
    "\n",
    "tqdm.pandas()"
   ]
  },
  {
   "cell_type": "code",
   "execution_count": 2,
   "id": "79f2bd88-333a-4ce5-aebf-9df7aaed1d35",
   "metadata": {
    "tags": []
   },
   "outputs": [],
   "source": [
    "# Define project information for Vertex AI\n",
    "PROJECT_ID = \"qwiklabs-gcp-04-c5bda337dd4b\"  # @param {type:\"string\"}\n",
    "LOCATION = \"us-central1\"  # @param {type:\"string\"}\n",
    "\n",
    "# Initialize Vertex AI SDK\n",
    "vertexai.init(project=PROJECT_ID, location=LOCATION)"
   ]
  },
  {
   "cell_type": "markdown",
   "id": "8ed54aa6-7beb-4ee2-84ef-b603b90033eb",
   "metadata": {},
   "source": [
    "### Task 3. Create embeddings with Vertex AI\n",
    "\n",
    "#### Data Preparation\n",
    "\n",
    "We will be using the Stack Overflow public dataset hosted on BigQuery table bigquery-public-data.stackoverflow.posts_questions. This is a very big dataset with 23 million rows that doesn't fit into memory. We are going to limit it to 500 rows for this lab.\n",
    "\n",
    "In this task, we will:\n",
    "\n",
    "- Fetch the data from BigQuery\n",
    "- Concat the Title and Body, and create embeddings from the text."
   ]
  },
  {
   "cell_type": "code",
   "execution_count": 3,
   "id": "6c5c2be2-f177-489e-8ba9-6576de772892",
   "metadata": {
    "tags": []
   },
   "outputs": [
    {
     "data": {
      "text/html": [
       "<div>\n",
       "<style scoped>\n",
       "    .dataframe tbody tr th:only-of-type {\n",
       "        vertical-align: middle;\n",
       "    }\n",
       "\n",
       "    .dataframe tbody tr th {\n",
       "        vertical-align: top;\n",
       "    }\n",
       "\n",
       "    .dataframe thead th {\n",
       "        text-align: right;\n",
       "    }\n",
       "</style>\n",
       "<table border=\"1\" class=\"dataframe\">\n",
       "  <thead>\n",
       "    <tr style=\"text-align: right;\">\n",
       "      <th></th>\n",
       "      <th>id</th>\n",
       "      <th>title</th>\n",
       "      <th>body</th>\n",
       "      <th>answer_count</th>\n",
       "      <th>comment_count</th>\n",
       "      <th>creation_date</th>\n",
       "      <th>last_activity_date</th>\n",
       "      <th>score</th>\n",
       "      <th>tags</th>\n",
       "      <th>view_count</th>\n",
       "    </tr>\n",
       "  </thead>\n",
       "  <tbody>\n",
       "    <tr>\n",
       "      <th>0</th>\n",
       "      <td>927358</td>\n",
       "      <td>How do I undo the most recent local commits in...</td>\n",
       "      <td>&lt;p&gt;I accidentally committed the wrong files to...</td>\n",
       "      <td>100</td>\n",
       "      <td>12</td>\n",
       "      <td>2009-05-29 18:09:14.627000+00:00</td>\n",
       "      <td>2022-09-09 08:13:22.747000+00:00</td>\n",
       "      <td>24809</td>\n",
       "      <td>git|version-control|git-commit|undo</td>\n",
       "      <td>11649204</td>\n",
       "    </tr>\n",
       "    <tr>\n",
       "      <th>1</th>\n",
       "      <td>5767325</td>\n",
       "      <td>How can I remove a specific item from an array?</td>\n",
       "      <td>&lt;p&gt;How do I remove a specific value from an ar...</td>\n",
       "      <td>137</td>\n",
       "      <td>7</td>\n",
       "      <td>2011-04-23 22:17:18.487000+00:00</td>\n",
       "      <td>2022-09-16 16:24:04.310000+00:00</td>\n",
       "      <td>10953</td>\n",
       "      <td>javascript|arrays</td>\n",
       "      <td>10493798</td>\n",
       "    </tr>\n",
       "    <tr>\n",
       "      <th>2</th>\n",
       "      <td>2003505</td>\n",
       "      <td>How do I delete a Git branch locally and remot...</td>\n",
       "      <td>&lt;h4&gt;Failed Attempts to Delete a Remote Branch:...</td>\n",
       "      <td>42</td>\n",
       "      <td>10</td>\n",
       "      <td>2010-01-05 01:12:15.867000+00:00</td>\n",
       "      <td>2022-09-20 09:16:37.687000+00:00</td>\n",
       "      <td>19556</td>\n",
       "      <td>git|version-control|git-branch|git-push|git-re...</td>\n",
       "      <td>10278934</td>\n",
       "    </tr>\n",
       "    <tr>\n",
       "      <th>3</th>\n",
       "      <td>16956810</td>\n",
       "      <td>How to find all files containing specific text...</td>\n",
       "      <td>&lt;p&gt;How do I find all files containing a specif...</td>\n",
       "      <td>53</td>\n",
       "      <td>9</td>\n",
       "      <td>2013-06-06 08:06:45.533000+00:00</td>\n",
       "      <td>2022-09-04 13:42:00.477000+00:00</td>\n",
       "      <td>6894</td>\n",
       "      <td>linux|text|grep|directory|find</td>\n",
       "      <td>9378947</td>\n",
       "    </tr>\n",
       "    <tr>\n",
       "      <th>4</th>\n",
       "      <td>4114095</td>\n",
       "      <td>How do I revert a Git repository to a previous...</td>\n",
       "      <td>&lt;p&gt;How do I revert from my current state to a ...</td>\n",
       "      <td>41</td>\n",
       "      <td>3</td>\n",
       "      <td>2010-11-06 16:58:14.550000+00:00</td>\n",
       "      <td>2022-09-02 06:25:46.480000+00:00</td>\n",
       "      <td>7617</td>\n",
       "      <td>git|git-checkout|git-reset|git-revert</td>\n",
       "      <td>8956751</td>\n",
       "    </tr>\n",
       "  </tbody>\n",
       "</table>\n",
       "</div>"
      ],
      "text/plain": [
       "         id                                              title  \\\n",
       "0    927358  How do I undo the most recent local commits in...   \n",
       "1   5767325    How can I remove a specific item from an array?   \n",
       "2   2003505  How do I delete a Git branch locally and remot...   \n",
       "3  16956810  How to find all files containing specific text...   \n",
       "4   4114095  How do I revert a Git repository to a previous...   \n",
       "\n",
       "                                                body  answer_count  \\\n",
       "0  <p>I accidentally committed the wrong files to...           100   \n",
       "1  <p>How do I remove a specific value from an ar...           137   \n",
       "2  <h4>Failed Attempts to Delete a Remote Branch:...            42   \n",
       "3  <p>How do I find all files containing a specif...            53   \n",
       "4  <p>How do I revert from my current state to a ...            41   \n",
       "\n",
       "   comment_count                    creation_date  \\\n",
       "0             12 2009-05-29 18:09:14.627000+00:00   \n",
       "1              7 2011-04-23 22:17:18.487000+00:00   \n",
       "2             10 2010-01-05 01:12:15.867000+00:00   \n",
       "3              9 2013-06-06 08:06:45.533000+00:00   \n",
       "4              3 2010-11-06 16:58:14.550000+00:00   \n",
       "\n",
       "                last_activity_date  score  \\\n",
       "0 2022-09-09 08:13:22.747000+00:00  24809   \n",
       "1 2022-09-16 16:24:04.310000+00:00  10953   \n",
       "2 2022-09-20 09:16:37.687000+00:00  19556   \n",
       "3 2022-09-04 13:42:00.477000+00:00   6894   \n",
       "4 2022-09-02 06:25:46.480000+00:00   7617   \n",
       "\n",
       "                                                tags  view_count  \n",
       "0                git|version-control|git-commit|undo    11649204  \n",
       "1                                  javascript|arrays    10493798  \n",
       "2  git|version-control|git-branch|git-push|git-re...    10278934  \n",
       "3                     linux|text|grep|directory|find     9378947  \n",
       "4              git|git-checkout|git-reset|git-revert     8956751  "
      ]
     },
     "execution_count": 3,
     "metadata": {},
     "output_type": "execute_result"
    }
   ],
   "source": [
    "bq_client = bigquery.Client(project=PROJECT_ID)\n",
    "query = f\"\"\"\n",
    "SELECT\n",
    "  DISTINCT \n",
    "  q.id,\n",
    "  q.title,\n",
    "  q.body,\n",
    "  q.answer_count,\n",
    "  q.comment_count,\n",
    "  q.creation_date,\n",
    "  q.last_activity_date,\n",
    "  q.score,\n",
    "  q.tags,\n",
    "  q.view_count\n",
    "FROM\n",
    "  `bigquery-public-data.stackoverflow.posts_questions` AS q\n",
    "WHERE\n",
    "  q.score > 0\n",
    "ORDER BY\n",
    "  q.view_count DESC\n",
    "LIMIT\n",
    "  500;\n",
    "\"\"\"\n",
    "\n",
    "# Load the BQ Table into a Pandas Dataframe\n",
    "df = bq_client.query(query).result().to_dataframe()\n",
    "\n",
    "# Convert ID to String\n",
    "df[\"id\"] = df[\"id\"].apply(str)\n",
    "\n",
    "# examine the data\n",
    "df.head()"
   ]
  },
  {
   "cell_type": "markdown",
   "id": "196fe142-f683-453a-a4f6-56a27c425b46",
   "metadata": {},
   "source": [
    "#### Call the API to generate embeddings\n",
    "\n",
    "With the Stack Overflow dataset, we will use the `title` and `body` columns (the question title and description) and generate embedding for it with Embeddings for Text API. The API is available under the `vertexai` package of the SDK.\n",
    "\n",
    "From the package, import `TextEmbeddingModel` and get a model.\n",
    "\n",
    "For more information, refer to:\n",
    "\n",
    "- [Vertex AI: Get Text Embeddings](https://cloud.google.com/vertex-ai/docs/generative-ai/embeddings/get-text-embeddings)\n",
    "- [Vertex AI: Model versions and lifecycle](https://cloud.google.com/vertex-ai/docs/generative-ai/learn/model-versioning)"
   ]
  },
  {
   "cell_type": "code",
   "execution_count": 4,
   "id": "84d0d249-6f26-4395-a279-e4786dfb8979",
   "metadata": {
    "tags": []
   },
   "outputs": [],
   "source": [
    "# Load the text embeddings model\n",
    "model = TextEmbeddingModel.from_pretrained(\"text-embedding-004\")"
   ]
  },
  {
   "cell_type": "markdown",
   "id": "63ea3473-8c76-4162-ac3e-96544c496b79",
   "metadata": {},
   "source": [
    "Run the following code snippet in the next cell, to define a python function named `get_embeddings_wrapper` that takes a list of texts and an optional batch size as input parameters. The function uses the previously loaded model (a text embeddings model) to obtain embeddings for the provided texts."
   ]
  },
  {
   "cell_type": "code",
   "execution_count": 5,
   "id": "d44ca6e4-f9c0-489d-9bed-c6781fd95bc2",
   "metadata": {
    "tags": []
   },
   "outputs": [],
   "source": [
    "# Get embeddings for a list of texts\n",
    "def get_embeddings_wrapper(texts, batch_size: int = 50) -> List:\n",
    "    embs = []\n",
    "    for i in tqdm(range(0, len(texts), batch_size)):\n",
    "        # Create embeddings optimized for document retrieval\n",
    "        # (supported in textembedding-gecko@002 and later)\n",
    "        result = model.get_embeddings(\n",
    "            [\n",
    "                TextEmbeddingInput(text=text, task_type=\"RETRIEVAL_DOCUMENT\")\n",
    "                for text in texts[i : i + batch_size]\n",
    "            ]\n",
    "        )\n",
    "        embs.extend([e.values for e in result])\n",
    "    return embs"
   ]
  },
  {
   "cell_type": "markdown",
   "id": "7e2bfb36-5590-4bd1-9e12-437843afff10",
   "metadata": {},
   "source": [
    "This code snippet modifies the previously loaded DataFrame (df) by combining the `title` and `body` columns into a new `title_body` column. Then, it uses the `get_embeddings_wrapper` function to obtain text embeddings for each combined title and body, and the resulting embeddings are added as a new `embedding` column to the DataFrame. Finally, the first few rows of the updated DataFrame are displayed."
   ]
  },
  {
   "cell_type": "code",
   "execution_count": 6,
   "id": "36183892-e9cb-4133-80fc-b32339a79ebb",
   "metadata": {
    "tags": []
   },
   "outputs": [
    {
     "name": "stderr",
     "output_type": "stream",
     "text": [
      "100%|██████████| 10/10 [00:06<00:00,  1.64it/s]\n"
     ]
    },
    {
     "data": {
      "text/html": [
       "<div>\n",
       "<style scoped>\n",
       "    .dataframe tbody tr th:only-of-type {\n",
       "        vertical-align: middle;\n",
       "    }\n",
       "\n",
       "    .dataframe tbody tr th {\n",
       "        vertical-align: top;\n",
       "    }\n",
       "\n",
       "    .dataframe thead th {\n",
       "        text-align: right;\n",
       "    }\n",
       "</style>\n",
       "<table border=\"1\" class=\"dataframe\">\n",
       "  <thead>\n",
       "    <tr style=\"text-align: right;\">\n",
       "      <th></th>\n",
       "      <th>id</th>\n",
       "      <th>title</th>\n",
       "      <th>body</th>\n",
       "      <th>answer_count</th>\n",
       "      <th>comment_count</th>\n",
       "      <th>creation_date</th>\n",
       "      <th>last_activity_date</th>\n",
       "      <th>score</th>\n",
       "      <th>tags</th>\n",
       "      <th>view_count</th>\n",
       "      <th>title_body</th>\n",
       "      <th>embedding</th>\n",
       "    </tr>\n",
       "  </thead>\n",
       "  <tbody>\n",
       "    <tr>\n",
       "      <th>0</th>\n",
       "      <td>927358</td>\n",
       "      <td>How do I undo the most recent local commits in...</td>\n",
       "      <td>&lt;p&gt;I accidentally committed the wrong files to...</td>\n",
       "      <td>100</td>\n",
       "      <td>12</td>\n",
       "      <td>2009-05-29 18:09:14.627000+00:00</td>\n",
       "      <td>2022-09-09 08:13:22.747000+00:00</td>\n",
       "      <td>24809</td>\n",
       "      <td>git|version-control|git-commit|undo</td>\n",
       "      <td>11649204</td>\n",
       "      <td>How do I undo the most recent local commits in...</td>\n",
       "      <td>[0.0060494025237858295, 0.007868818938732147, ...</td>\n",
       "    </tr>\n",
       "    <tr>\n",
       "      <th>1</th>\n",
       "      <td>5767325</td>\n",
       "      <td>How can I remove a specific item from an array?</td>\n",
       "      <td>&lt;p&gt;How do I remove a specific value from an ar...</td>\n",
       "      <td>137</td>\n",
       "      <td>7</td>\n",
       "      <td>2011-04-23 22:17:18.487000+00:00</td>\n",
       "      <td>2022-09-16 16:24:04.310000+00:00</td>\n",
       "      <td>10953</td>\n",
       "      <td>javascript|arrays</td>\n",
       "      <td>10493798</td>\n",
       "      <td>How can I remove a specific item from an array...</td>\n",
       "      <td>[0.03094310313463211, -0.0007308208150789142, ...</td>\n",
       "    </tr>\n",
       "    <tr>\n",
       "      <th>2</th>\n",
       "      <td>2003505</td>\n",
       "      <td>How do I delete a Git branch locally and remot...</td>\n",
       "      <td>&lt;h4&gt;Failed Attempts to Delete a Remote Branch:...</td>\n",
       "      <td>42</td>\n",
       "      <td>10</td>\n",
       "      <td>2010-01-05 01:12:15.867000+00:00</td>\n",
       "      <td>2022-09-20 09:16:37.687000+00:00</td>\n",
       "      <td>19556</td>\n",
       "      <td>git|version-control|git-branch|git-push|git-re...</td>\n",
       "      <td>10278934</td>\n",
       "      <td>How do I delete a Git branch locally and remot...</td>\n",
       "      <td>[0.05592119321227074, -0.01804913766682148, -0...</td>\n",
       "    </tr>\n",
       "    <tr>\n",
       "      <th>3</th>\n",
       "      <td>16956810</td>\n",
       "      <td>How to find all files containing specific text...</td>\n",
       "      <td>&lt;p&gt;How do I find all files containing a specif...</td>\n",
       "      <td>53</td>\n",
       "      <td>9</td>\n",
       "      <td>2013-06-06 08:06:45.533000+00:00</td>\n",
       "      <td>2022-09-04 13:42:00.477000+00:00</td>\n",
       "      <td>6894</td>\n",
       "      <td>linux|text|grep|directory|find</td>\n",
       "      <td>9378947</td>\n",
       "      <td>How to find all files containing specific text...</td>\n",
       "      <td>[-0.03896770253777504, 0.026809267699718475, -...</td>\n",
       "    </tr>\n",
       "    <tr>\n",
       "      <th>4</th>\n",
       "      <td>4114095</td>\n",
       "      <td>How do I revert a Git repository to a previous...</td>\n",
       "      <td>&lt;p&gt;How do I revert from my current state to a ...</td>\n",
       "      <td>41</td>\n",
       "      <td>3</td>\n",
       "      <td>2010-11-06 16:58:14.550000+00:00</td>\n",
       "      <td>2022-09-02 06:25:46.480000+00:00</td>\n",
       "      <td>7617</td>\n",
       "      <td>git|git-checkout|git-reset|git-revert</td>\n",
       "      <td>8956751</td>\n",
       "      <td>How do I revert a Git repository to a previous...</td>\n",
       "      <td>[0.020585879683494568, -0.010793603025376797, ...</td>\n",
       "    </tr>\n",
       "  </tbody>\n",
       "</table>\n",
       "</div>"
      ],
      "text/plain": [
       "         id                                              title  \\\n",
       "0    927358  How do I undo the most recent local commits in...   \n",
       "1   5767325    How can I remove a specific item from an array?   \n",
       "2   2003505  How do I delete a Git branch locally and remot...   \n",
       "3  16956810  How to find all files containing specific text...   \n",
       "4   4114095  How do I revert a Git repository to a previous...   \n",
       "\n",
       "                                                body  answer_count  \\\n",
       "0  <p>I accidentally committed the wrong files to...           100   \n",
       "1  <p>How do I remove a specific value from an ar...           137   \n",
       "2  <h4>Failed Attempts to Delete a Remote Branch:...            42   \n",
       "3  <p>How do I find all files containing a specif...            53   \n",
       "4  <p>How do I revert from my current state to a ...            41   \n",
       "\n",
       "   comment_count                    creation_date  \\\n",
       "0             12 2009-05-29 18:09:14.627000+00:00   \n",
       "1              7 2011-04-23 22:17:18.487000+00:00   \n",
       "2             10 2010-01-05 01:12:15.867000+00:00   \n",
       "3              9 2013-06-06 08:06:45.533000+00:00   \n",
       "4              3 2010-11-06 16:58:14.550000+00:00   \n",
       "\n",
       "                last_activity_date  score  \\\n",
       "0 2022-09-09 08:13:22.747000+00:00  24809   \n",
       "1 2022-09-16 16:24:04.310000+00:00  10953   \n",
       "2 2022-09-20 09:16:37.687000+00:00  19556   \n",
       "3 2022-09-04 13:42:00.477000+00:00   6894   \n",
       "4 2022-09-02 06:25:46.480000+00:00   7617   \n",
       "\n",
       "                                                tags  view_count  \\\n",
       "0                git|version-control|git-commit|undo    11649204   \n",
       "1                                  javascript|arrays    10493798   \n",
       "2  git|version-control|git-branch|git-push|git-re...    10278934   \n",
       "3                     linux|text|grep|directory|find     9378947   \n",
       "4              git|git-checkout|git-reset|git-revert     8956751   \n",
       "\n",
       "                                          title_body  \\\n",
       "0  How do I undo the most recent local commits in...   \n",
       "1  How can I remove a specific item from an array...   \n",
       "2  How do I delete a Git branch locally and remot...   \n",
       "3  How to find all files containing specific text...   \n",
       "4  How do I revert a Git repository to a previous...   \n",
       "\n",
       "                                           embedding  \n",
       "0  [0.0060494025237858295, 0.007868818938732147, ...  \n",
       "1  [0.03094310313463211, -0.0007308208150789142, ...  \n",
       "2  [0.05592119321227074, -0.01804913766682148, -0...  \n",
       "3  [-0.03896770253777504, 0.026809267699718475, -...  \n",
       "4  [0.020585879683494568, -0.010793603025376797, ...  "
      ]
     },
     "execution_count": 6,
     "metadata": {},
     "output_type": "execute_result"
    }
   ],
   "source": [
    "df[\"title_body\"] = df[\"title\"] + \"\\n\" + df[\"body\"]\n",
    "\n",
    "df = df.assign(embedding=get_embeddings_wrapper(df.title_body))\n",
    "df.head()"
   ]
  },
  {
   "cell_type": "markdown",
   "id": "e074ce8c-2fec-46a2-8f1e-dc69cf0e3159",
   "metadata": {},
   "source": [
    "### Task 4. Scrape HTML from Question Pages"
   ]
  },
  {
   "cell_type": "code",
   "execution_count": 7,
   "id": "ef08ec1b-e6e6-487f-982c-f1db36cc0fb0",
   "metadata": {
    "tags": []
   },
   "outputs": [],
   "source": [
    "BUCKET_NAME = \"qwiklabs-gcp-04-c5bda337dd4b\"\n",
    "BUCKET_URI = \"gs://qwiklabs-gcp-04-c5bda337dd4b\"\n",
    "REGION = \"us-east1\"\n",
    "PROJECT_ID = \"qwiklabs-gcp-04-c5bda337dd4b\""
   ]
  },
  {
   "cell_type": "code",
   "execution_count": 8,
   "id": "5f26f8e4-9636-431c-9889-f67461e7161d",
   "metadata": {
    "tags": []
   },
   "outputs": [
    {
     "name": "stdout",
     "output_type": "stream",
     "text": [
      "Creating gs://qwiklabs-gcp-04-c5bda337dd4b/...\n"
     ]
    }
   ],
   "source": [
    "! gsutil mb -l $REGION -p $PROJECT_ID $BUCKET_URI"
   ]
  },
  {
   "cell_type": "code",
   "execution_count": 9,
   "id": "31865356-d5ab-49b5-a388-946cb30914b3",
   "metadata": {
    "tags": []
   },
   "outputs": [
    {
     "name": "stderr",
     "output_type": "stream",
     "text": [
      "Copying file:///dev/null [Content-Type=application/octet-stream]...\n",
      "/ [1/1 files][    0.0 B/    0.0 B]                                              \n",
      "Operation completed over 1 objects.                                              \n",
      "Copying file:///dev/null [Content-Type=application/octet-stream]...\n",
      "/ [1/1 files][    0.0 B/    0.0 B]                                              \n",
      "Operation completed over 1 objects.                                              \n"
     ]
    },
    {
     "name": "stdout",
     "output_type": "stream",
     "text": [
      "Directories created successfully.\n"
     ]
    }
   ],
   "source": [
    "%%bash\n",
    "\n",
    "# Set your Google Cloud Storage bucket name\n",
    "BUCKET_NAME=\"gs://qwiklabs-gcp-04-c5bda337dd4b\"\n",
    "\n",
    "# Array of top-level directory names you want to create\n",
    "TOP_LEVEL_DIRECTORIES=(\"embeddings-stackoverflow\")\n",
    "\n",
    "# Loop through the top-level array and create directories\n",
    "for TOP_LEVEL_DIRECTORY in \"${TOP_LEVEL_DIRECTORIES[@]}\"; do\n",
    "  gsutil -m cp -r /dev/null \"$BUCKET_NAME/$TOP_LEVEL_DIRECTORY/\"\n",
    "\n",
    "  # Array of subdirectory names you want to create inside the top-level directory\n",
    "  SUBDIRECTORIES=(\"html\")\n",
    "\n",
    "  # Loop through the subdirectories array and create subdirectories inside the top-level directory\n",
    "  for SUBDIRECTORY in \"${SUBDIRECTORIES[@]}\"; do\n",
    "    gsutil -m cp -r /dev/null \"$BUCKET_NAME/$TOP_LEVEL_DIRECTORY/$SUBDIRECTORY/\"\n",
    "  done\n",
    "done\n",
    "\n",
    "echo \"Directories created successfully.\""
   ]
  },
  {
   "cell_type": "markdown",
   "id": "e8add72b-3021-4fd3-88c1-d820fe1631ba",
   "metadata": {},
   "source": [
    "Run the following code snippet in the next cell, to define a Python function named `scrape_question` that performs the following tasks:\n",
    "\n",
    "- It sends an HTTP GET request to a specified URL (question_url) to scrape the content of a question page.\n",
    "- If the request is successful (HTTP status code 200) and the response contains content, it uploads the HTML content of the question page to Google Cloud Storage (GCS).\n",
    "- The GCS URI (Uniform Resource Identifier) of the uploaded HTML file is returned."
   ]
  },
  {
   "cell_type": "code",
   "execution_count": 10,
   "id": "ac70b686-e9ed-4c47-a926-aa62742c84f3",
   "metadata": {
    "tags": []
   },
   "outputs": [],
   "source": [
    "JSONL_MIME_TYPE = \"application/jsonl\"\n",
    "HTML_MIME_TYPE = \"text/html\"\n",
    "\n",
    "BUCKET_NAME = \"qwiklabs-gcp-04-c5bda337dd4b\"\n",
    "DIRECTORY = \"embeddings-stackoverflow\"\n",
    "BLOB_PREFIX = f\"{DIRECTORY}/html/\"\n",
    "\n",
    "GCS_URI_PREFIX = f\"gs://{BUCKET_NAME}/{BLOB_PREFIX}\"\n",
    "\n",
    "storage_client = storage.Client()\n",
    "bucket = storage_client.bucket(BUCKET_NAME)\n",
    "\n",
    "\n",
    "def scrape_question(question_url: str) -> str:\n",
    "    response = requests.get(question_url)\n",
    "\n",
    "    if response.status_code != 200 or not response.content:\n",
    "        print(f\"URL: {question_url} Code: {response.status_code}\")\n",
    "        return None\n",
    "\n",
    "    print(f\"Scraping {question_url}\")\n",
    "\n",
    "    link_title = response.url.split(\"/\")[-1] + \".html\"\n",
    "    gcs_uri = f\"{GCS_URI_PREFIX}{link_title}\"\n",
    "\n",
    "    # Upload HTML to Google Cloud Storage\n",
    "    blob = bucket.blob(f\"{BLOB_PREFIX}{link_title}\")\n",
    "    blob.upload_from_string(response.content, content_type=HTML_MIME_TYPE)\n",
    "    time.sleep(1)\n",
    "    return gcs_uri"
   ]
  },
  {
   "cell_type": "code",
   "execution_count": null,
   "id": "0a801e15-bf00-4f4a-9256-5f93e82b5df0",
   "metadata": {
    "tags": []
   },
   "outputs": [],
   "source": [
    "# Get the published URL from the ID\n",
    "QUESTION_BASE_URL = \"https://stackoverflow.com/questions/\"\n",
    "df[\"question_url\"] = df[\"id\"].apply(lambda x: f\"{QUESTION_BASE_URL}{x}\")\n",
    "\n",
    "# Scrape HTML from stackoverflow.com and upload to GCS\n",
    "df[\"gcs_uri\"] = df[\"question_url\"].apply(scrape_question)"
   ]
  },
  {
   "cell_type": "markdown",
   "id": "141bdb25-ac40-4ad7-8e1c-2f6ae56669ff",
   "metadata": {},
   "source": [
    "In the next cell, restructure the embeddings data to JSONL to follow the [Vertex AI Search format (Unstructured with Metadata)](https://cloud.google.com/generative-ai-app-builder/docs/prepare-data). This format is required to use custom embeddings."
   ]
  },
  {
   "cell_type": "code",
   "execution_count": 12,
   "id": "882c0039-d7b1-45d6-8da8-07e4d49fe780",
   "metadata": {
    "tags": []
   },
   "outputs": [],
   "source": [
    "EMBEDDINGS_FIELD_NAME = \"embedding_vector\"\n",
    "\n",
    "\n",
    "def format_row(row):\n",
    "    return {\n",
    "        \"id\": row[\"id\"],\n",
    "        \"content\": {\"mimeType\": HTML_MIME_TYPE, \"uri\": row[\"gcs_uri\"]},\n",
    "        \"structData\": {\n",
    "            EMBEDDINGS_FIELD_NAME: row[\"embedding\"],\n",
    "            \"title\": row[\"title\"],\n",
    "            \"body\": row[\"body\"],\n",
    "            \"question_url\": row[\"question_url\"],\n",
    "            \"answer_count\": row[\"answer_count\"],\n",
    "            \"creation_date\": row[\"creation_date\"],\n",
    "            \"score\": row[\"score\"],\n",
    "        },\n",
    "    }"
   ]
  },
  {
   "cell_type": "code",
   "execution_count": 13,
   "id": "de8f382d-c642-41bd-ab0d-6da247ddaa02",
   "metadata": {
    "tags": []
   },
   "outputs": [],
   "source": [
    "vais_embeddings = (\n",
    "    df.apply(format_row, axis=1)\n",
    "    .to_json(orient=\"records\", lines=True, force_ascii=False)\n",
    "    .replace(\"\\/\", \"/\")  # To prevent escaping the / characters\n",
    ")"
   ]
  },
  {
   "cell_type": "code",
   "execution_count": 14,
   "id": "e41e3ad7-e4ce-423d-b991-3516be51268a",
   "metadata": {
    "tags": []
   },
   "outputs": [],
   "source": [
    "jsonl_filename = f\"{DIRECTORY}/vais_embeddings.jsonl\"\n",
    "embeddings_file = f\"gs://{BUCKET_NAME}/{jsonl_filename}\"\n",
    "\n",
    "blob = bucket.blob(jsonl_filename)\n",
    "blob.upload_from_string(vais_embeddings, content_type=JSONL_MIME_TYPE)"
   ]
  },
  {
   "cell_type": "markdown",
   "id": "12913231-af32-45bf-9065-efd1bef3f009",
   "metadata": {},
   "source": [
    "### Task 6. Set up Vertex AI Agent Builder"
   ]
  },
  {
   "cell_type": "markdown",
   "id": "994c9776-e532-4efb-a1a0-b2bf61aa261c",
   "metadata": {},
   "source": [
    "In the next cell, define several functions that interact with the Google Cloud Vertex AI Discovery Engine service. These functions are responsible for creating a data store, updating its schema, importing documents, and creating a search engine."
   ]
  },
  {
   "cell_type": "code",
   "execution_count": 15,
   "id": "b2ad1bc1-7485-4536-a5f2-da5bb0b6ad05",
   "metadata": {
    "tags": []
   },
   "outputs": [],
   "source": [
    "DATA_STORE_LOCATION = \"global\"\n",
    "\n",
    "client_options = (\n",
    "    ClientOptions(api_endpoint=f\"{DATA_STORE_LOCATION}-discoveryengine.googleapis.com\")\n",
    "    if DATA_STORE_LOCATION != \"global\"\n",
    "    else None\n",
    ")\n",
    "\n",
    "def create_data_store(\n",
    "    project_id: str, location: str, data_store_name: str, data_store_id: str\n",
    "):\n",
    "    # Create a client\n",
    "    client = discoveryengine.DataStoreServiceClient(client_options=client_options)\n",
    "\n",
    "    # Initialize request argument(s)\n",
    "    data_store = discoveryengine.DataStore(\n",
    "        display_name=data_store_name,\n",
    "        industry_vertical=\"GENERIC\",\n",
    "        content_config=\"CONTENT_REQUIRED\",\n",
    "        solution_types=[\"SOLUTION_TYPE_SEARCH\"],\n",
    "    )\n",
    "\n",
    "    request = discoveryengine.CreateDataStoreRequest(\n",
    "        parent=discoveryengine.DataStoreServiceClient.collection_path(\n",
    "            project_id, location, \"default_collection\"\n",
    "        ),\n",
    "        data_store=data_store,\n",
    "        data_store_id=data_store_id,\n",
    "    )\n",
    "    operation = client.create_data_store(request=request)\n",
    "\n",
    "    try:\n",
    "        operation.result()\n",
    "    except GoogleAPICallError:\n",
    "        pass\n",
    "\n",
    "\n",
    "def update_schema(\n",
    "    project_id: str,\n",
    "    location: str,\n",
    "    data_store_id: str,\n",
    "):\n",
    "    client = discoveryengine.SchemaServiceClient(client_options=client_options)\n",
    "\n",
    "    schema = discoveryengine.Schema(\n",
    "        name=client.schema_path(project_id, location, data_store_id, \"default_schema\"),\n",
    "        struct_schema={\n",
    "            \"$schema\": \"https://json-schema.org/draft/2020-12/schema\",\n",
    "            \"type\": \"object\",\n",
    "            \"properties\": {\n",
    "                EMBEDDINGS_FIELD_NAME: {\n",
    "                    \"type\": \"array\",\n",
    "                    \"keyPropertyMapping\": \"embedding_vector\",\n",
    "                    \"dimension\": 768,\n",
    "                    \"items\": {\"type\": \"number\"},\n",
    "                }\n",
    "            },\n",
    "        },\n",
    "    )\n",
    "\n",
    "    operation = client.update_schema(\n",
    "        request=discoveryengine.UpdateSchemaRequest(schema=schema)\n",
    "    )\n",
    "\n",
    "    print(\"Waiting for operation to complete...\")\n",
    "\n",
    "    response = operation.result()\n",
    "\n",
    "    # Handle the response\n",
    "    print(response)\n",
    "\n",
    "\n",
    "def import_documents(\n",
    "    project_id: str,\n",
    "    location: str,\n",
    "    data_store_id: str,\n",
    "    gcs_uri: str,\n",
    "):\n",
    "    client = discoveryengine.DocumentServiceClient(client_options=client_options)\n",
    "\n",
    "    # The full resource name of the search engine branch.\n",
    "    # e.g. projects/{project}/locations/{location}/dataStores/{data_store_id}/branches/{branch}\n",
    "    parent = client.branch_path(\n",
    "        project=project_id,\n",
    "        location=location,\n",
    "        data_store=data_store_id,\n",
    "        branch=\"default_branch\",\n",
    "    )\n",
    "\n",
    "    request = discoveryengine.ImportDocumentsRequest(\n",
    "        parent=parent,\n",
    "        gcs_source=discoveryengine.GcsSource(input_uris=[gcs_uri]),\n",
    "        # Options: `FULL`, `INCREMENTAL`\n",
    "        reconciliation_mode=discoveryengine.ImportDocumentsRequest.ReconciliationMode.FULL,\n",
    "    )\n",
    "\n",
    "    # Make the request\n",
    "    operation = client.import_documents(request=request)\n",
    "\n",
    "\n",
    "def create_engine(\n",
    "    project_id: str, location: str, data_store_name: str, data_store_id: str\n",
    "):\n",
    "    client = discoveryengine.EngineServiceClient(client_options=client_options)\n",
    "\n",
    "    # Initialize request argument(s)\n",
    "    config = discoveryengine.Engine.SearchEngineConfig(\n",
    "        search_tier=\"SEARCH_TIER_ENTERPRISE\", search_add_ons=[\"SEARCH_ADD_ON_LLM\"]\n",
    "    )\n",
    "\n",
    "    engine = discoveryengine.Engine(\n",
    "        display_name=data_store_name,\n",
    "        solution_type=\"SOLUTION_TYPE_SEARCH\",\n",
    "        industry_vertical=\"GENERIC\",\n",
    "        data_store_ids=[data_store_id],\n",
    "        search_engine_config=config,\n",
    "    )\n",
    "\n",
    "    request = discoveryengine.CreateEngineRequest(\n",
    "        parent=discoveryengine.DataStoreServiceClient.collection_path(\n",
    "            project_id, location, \"default_collection\"\n",
    "        ),\n",
    "        engine=engine,\n",
    "        engine_id=engine.display_name,\n",
    "    )\n",
    "\n",
    "    # Make the request\n",
    "    operation = client.create_engine(request=request)\n",
    "    response = operation.result(timeout=90)"
   ]
  },
  {
   "cell_type": "markdown",
   "id": "fd9a83b2-7237-47f6-b1e4-5328dc84d338",
   "metadata": {},
   "source": [
    "In the next cell, initialize and configure a search application in Google Cloud Vertex AI Discovery Engine, including creating a data store, updating its schema for embeddings, importing documents, and creating a search engine attached to the data store."
   ]
  },
  {
   "cell_type": "code",
   "execution_count": 16,
   "id": "88d1f4c1-f870-463b-845a-3deaed102cb8",
   "metadata": {
    "tags": []
   },
   "outputs": [
    {
     "name": "stdout",
     "output_type": "stream",
     "text": [
      "Waiting for operation to complete...\n",
      "name: \"projects/522201669336/locations/global/collections/default_collection/dataStores/stackoverflow-embeddings-id/schemas/default_schema\"\n",
      "struct_schema {\n",
      "  fields {\n",
      "    key: \"$schema\"\n",
      "    value {\n",
      "      string_value: \"https://json-schema.org/draft/2020-12/schema\"\n",
      "    }\n",
      "  }\n",
      "  fields {\n",
      "    key: \"properties\"\n",
      "    value {\n",
      "      struct_value {\n",
      "        fields {\n",
      "          key: \"embedding_vector\"\n",
      "          value {\n",
      "            struct_value {\n",
      "              fields {\n",
      "                key: \"dimension\"\n",
      "                value {\n",
      "                  number_value: 768.0\n",
      "                }\n",
      "              }\n",
      "              fields {\n",
      "                key: \"items\"\n",
      "                value {\n",
      "                  struct_value {\n",
      "                    fields {\n",
      "                      key: \"type\"\n",
      "                      value {\n",
      "                        string_value: \"number\"\n",
      "                      }\n",
      "                    }\n",
      "                  }\n",
      "                }\n",
      "              }\n",
      "              fields {\n",
      "                key: \"keyPropertyMapping\"\n",
      "                value {\n",
      "                  string_value: \"embedding_vector\"\n",
      "                }\n",
      "              }\n",
      "              fields {\n",
      "                key: \"type\"\n",
      "                value {\n",
      "                  string_value: \"array\"\n",
      "                }\n",
      "              }\n",
      "            }\n",
      "          }\n",
      "        }\n",
      "      }\n",
      "    }\n",
      "  }\n",
      "  fields {\n",
      "    key: \"type\"\n",
      "    value {\n",
      "      string_value: \"object\"\n",
      "    }\n",
      "  }\n",
      "}\n",
      "field_configs {\n",
      "  field_path: \"embedding_vector\"\n",
      "  field_type: NUMBER\n",
      "  key_property_type: \"EMBEDDING_VECTOR\"\n",
      "}\n",
      "\n"
     ]
    }
   ],
   "source": [
    "DATA_STORE_NAME = \"stackoverflow-embeddings\"\n",
    "DATA_STORE_ID = f\"{DATA_STORE_NAME}-id\"\n",
    "\n",
    "# Create a Data Store\n",
    "create_data_store(PROJECT_ID, DATA_STORE_LOCATION, DATA_STORE_NAME, DATA_STORE_ID)\n",
    "\n",
    "# Update the Data Store Schema for embeddings\n",
    "update_schema(PROJECT_ID, DATA_STORE_LOCATION, DATA_STORE_ID)\n",
    "\n",
    "# Import the embeddings JSONL file\n",
    "import_documents(PROJECT_ID, DATA_STORE_LOCATION, DATA_STORE_ID, embeddings_file)\n",
    "\n",
    "# Create a Search App and attach the Data Store\n",
    "create_engine(PROJECT_ID, DATA_STORE_LOCATION, DATA_STORE_NAME, DATA_STORE_ID)"
   ]
  },
  {
   "cell_type": "markdown",
   "id": "536e4edb-5bff-493a-99a3-0165ea918c31",
   "metadata": {},
   "source": [
    "Next, we need to set the embedding specification for the data store. We will set the same specifications for all search requests: `0.5 * relevance_score`.\n",
    "\n",
    "This is not supported in client libraries, so we will use the requests module to make a REST request Documentation: [Bring Embeddings](https://cloud.google.com/generative-ai-app-builder/docs/bring-embeddings#global)"
   ]
  },
  {
   "cell_type": "markdown",
   "id": "708491e6-c59a-441b-9748-829b105d93f9",
   "metadata": {},
   "source": [
    "Run the following code snippet in the next cell, that retrieves an access token using `gcloud auth print-access-token`, and then it sends a PATCH request to update the serving configuration of the search application in Google Cloud Vertex AI Discovery Engine. The request includes the embedding configuration and a ranking expression, and the server's response is printed."
   ]
  },
  {
   "cell_type": "code",
   "execution_count": 17,
   "id": "ae6f1a59-5f4a-4cb5-b9f5-54ec38efe736",
   "metadata": {
    "tags": []
   },
   "outputs": [
    {
     "name": "stdout",
     "output_type": "stream",
     "text": [
      "{\n",
      "  \"name\": \"projects/522201669336/locations/global/collections/default_collection/engines/stackoverflow-embeddings/servingConfigs/default_search\",\n",
      "  \"displayName\": \"default_search\",\n",
      "  \"solutionType\": \"SOLUTION_TYPE_SEARCH\",\n",
      "  \"embeddingConfig\": {\n",
      "    \"fieldPath\": \"embedding_vector\"\n",
      "  },\n",
      "  \"rankingExpression\": \"0.5 * relevance_score\"\n",
      "}\n",
      "\n"
     ]
    }
   ],
   "source": [
    "access_token = (\n",
    "    subprocess.check_output([\"gcloud\", \"auth\", \"print-access-token\"])\n",
    "    .decode(\"utf-8\")\n",
    "    .strip()\n",
    ")\n",
    "\n",
    "response = requests.patch(\n",
    "    url=f\"https://discoveryengine.googleapis.com/v1alpha/projects/{PROJECT_ID}/locations/{DATA_STORE_LOCATION}/collections/default_collection/dataStores/{DATA_STORE_ID}/servingConfigs/default_search?updateMask=embeddingConfig,rankingExpression\",\n",
    "    headers={\n",
    "        \"Authorization\": f\"Bearer {access_token}\",\n",
    "        \"Content-Type\": \"application/json; charset=utf-8\",\n",
    "        \"X-Goog-User-Project\": PROJECT_ID,\n",
    "    },\n",
    "    json={\n",
    "        \"name\": f\"projects/{PROJECT_ID}/locations/{DATA_STORE_LOCATION}/collections/default_collection/dataStores/{DATA_STORE_ID}/servingConfigs/default_search\",\n",
    "        \"embeddingConfig\": {\"fieldPath\": EMBEDDINGS_FIELD_NAME},\n",
    "        \"ranking_expression\": \"0.5 * relevance_score\",\n",
    "    },\n",
    ")\n",
    "\n",
    "print(response.text)"
   ]
  },
  {
   "cell_type": "markdown",
   "id": "9222925e-b0ba-42c1-bb3f-6f66afbb01bf",
   "metadata": {},
   "source": [
    "### Task 7. Test Search Application"
   ]
  },
  {
   "cell_type": "code",
   "execution_count": 18,
   "id": "744c301a-65af-48ad-8aad-7407f55f1eb1",
   "metadata": {
    "tags": []
   },
   "outputs": [],
   "source": [
    "def search_data_store(\n",
    "    project_id: str,\n",
    "    location: str,\n",
    "    data_store_id: str,\n",
    "    search_query: str,\n",
    ") -> List[discoveryengine.SearchResponse]:\n",
    "    # Create a client\n",
    "    client = discoveryengine.SearchServiceClient(client_options=client_options)\n",
    "\n",
    "    # The full resource name of the search engine serving config\n",
    "    # e.g. projects/{project_id}/locations/{location}/dataStores/{data_store_id}/servingConfigs/{serving_config_id}\n",
    "    serving_config = client.serving_config_path(\n",
    "        project=project_id,\n",
    "        location=location,\n",
    "        data_store=data_store_id,\n",
    "        serving_config=\"default_config\",\n",
    "    )\n",
    "\n",
    "    # Optional: Configuration options for search\n",
    "    # Refer to the `ContentSearchSpec` reference for all supported fields:\n",
    "    # https://cloud.google.com/python/docs/reference/discoveryengine/latest/google.cloud.discoveryengine_v1.types.SearchRequest.ContentSearchSpec\n",
    "    content_search_spec = discoveryengine.SearchRequest.ContentSearchSpec(\n",
    "        # For information about snippets, refer to:\n",
    "        # https://cloud.google.com/generative-ai-app-builder/docs/snippets\n",
    "        snippet_spec=discoveryengine.SearchRequest.ContentSearchSpec.SnippetSpec(\n",
    "            return_snippet=True\n",
    "        ),\n",
    "        # For information about search summaries, refer to:\n",
    "        # https://cloud.google.com/generative-ai-app-builder/docs/get-search-summaries\n",
    "        summary_spec=discoveryengine.SearchRequest.ContentSearchSpec.SummarySpec(\n",
    "            summary_result_count=5,\n",
    "            include_citations=True,\n",
    "            ignore_adversarial_query=True,\n",
    "            ignore_non_summary_seeking_query=True,\n",
    "        ),\n",
    "    )\n",
    "\n",
    "    # Refer to the `SearchRequest` reference for all supported fields:\n",
    "    # https://cloud.google.com/python/docs/reference/discoveryengine/latest/google.cloud.discoveryengine_v1.types.SearchRequest\n",
    "    request = discoveryengine.SearchRequest(\n",
    "        serving_config=serving_config,\n",
    "        query=search_query,\n",
    "        page_size=10,\n",
    "        content_search_spec=content_search_spec,\n",
    "        query_expansion_spec=discoveryengine.SearchRequest.QueryExpansionSpec(\n",
    "            condition=discoveryengine.SearchRequest.QueryExpansionSpec.Condition.AUTO,\n",
    "        ),\n",
    "        spell_correction_spec=discoveryengine.SearchRequest.SpellCorrectionSpec(\n",
    "            mode=discoveryengine.SearchRequest.SpellCorrectionSpec.Mode.AUTO\n",
    "        ),\n",
    "    )\n",
    "\n",
    "    response = client.search(request)\n",
    "    return response"
   ]
  },
  {
   "cell_type": "code",
   "execution_count": 20,
   "id": "8a1a1fc6-6eec-44ab-b118-87fce665ac12",
   "metadata": {
    "tags": []
   },
   "outputs": [
    {
     "name": "stdout",
     "output_type": "stream",
     "text": [
      "Summary: To create an array in Java, you can use the `new` keyword followed by the data type of the array and the size of the array in square brackets. For example, to create an array of integers with a size of 5, you would use the following code: `int myArray = new int;`. You can also initialize an array with values when you create it. [1] For example, to create an array of integers with the values 1, 2, 3, 4, and 5, you would use the following code: `int myArray = {1, 2, 3, 4, 5};`. Java can determine the size of the array implicitly based on the number of values you provide. [1] \n",
      "\n"
     ]
    }
   ],
   "source": [
    "search_query = \"How do I create an array in Java?\"\n",
    "\n",
    "response = search_data_store(\n",
    "    PROJECT_ID, DATA_STORE_LOCATION, DATA_STORE_ID, search_query\n",
    ")\n",
    "\n",
    "print(f\"Summary: {response.summary.summary_text}\")"
   ]
  },
  {
   "cell_type": "code",
   "execution_count": null,
   "id": "ae1b1e09-6e1e-40fe-aee6-e3d81a12811c",
   "metadata": {},
   "outputs": [],
   "source": []
  }
 ],
 "metadata": {
  "environment": {
   "kernel": "conda-base-py",
   "name": "workbench-notebooks.m127",
   "type": "gcloud",
   "uri": "us-docker.pkg.dev/deeplearning-platform-release/gcr.io/workbench-notebooks:m127"
  },
  "kernelspec": {
   "display_name": "Python 3 (ipykernel) (Local) (Local)",
   "language": "python",
   "name": "conda-base-py"
  },
  "language_info": {
   "codemirror_mode": {
    "name": "ipython",
    "version": 3
   },
   "file_extension": ".py",
   "mimetype": "text/x-python",
   "name": "python",
   "nbconvert_exporter": "python",
   "pygments_lexer": "ipython3",
   "version": "3.10.16"
  }
 },
 "nbformat": 4,
 "nbformat_minor": 5
}
