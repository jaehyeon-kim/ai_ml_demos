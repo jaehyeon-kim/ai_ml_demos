{
 "cells": [
  {
   "cell_type": "markdown",
   "id": "4aed12e3-d75d-480a-9c74-e504ca8821e9",
   "metadata": {},
   "source": [
    "## Vertex AI Agent Builder Data Store Status Checker\n",
    "\n",
    "### Overview\n",
    "\n",
    "#### What is a Data Store?\n",
    "\n",
    "A Data Store in Vertex AI Agent Builder is a collection of websites or documents, both structured and unstructured, that can be indexed for search and retrieval actions.\n",
    "\n",
    "Data Stores are the fundamental building block behind Vertex AI Agent Builder.\n",
    "\n",
    "#### Data Store Indexing Time\n",
    "\n",
    "With each website or set of documents added, the Data Store needs to index the site and/or documents in order for them to be searchable. This can take up to 4 hours for new data store web content to be indexed.\n",
    "\n",
    "Using the attached example notebook, you can query your Data Store ID to see if indexing is complete. Once complete, you can additionally use the notebook to search your Data Store for specific pages or documents.\n",
    "\n",
    "### Objectives\n",
    "\n",
    "This lab uses the Cloud Discovery Engine API to check a Data Store for indexed docs.\n",
    "\n",
    "This lab utilizes the `google-cloud-discoveryengine` Python library and allows the user to perform the following tasks:\n",
    "\n",
    "- Check Indexing Status of given Data Store ID.\n",
    "- List all documents in a given Data Store ID.\n",
    "- List all indexed URLs for a given Data Store ID\n",
    "- Search all indexed URLs for a specific URL within a given Data Store ID."
   ]
  },
  {
   "cell_type": "markdown",
   "id": "303cc1c5-7ecf-461d-8b89-267d10892746",
   "metadata": {},
   "source": [
    "### Task 1. Enable APIs\n",
    "\n",
    "Enable the Dialogflow API"
   ]
  },
  {
   "cell_type": "markdown",
   "id": "dcc60c07-0be7-4fd5-9cdb-07371b382ce7",
   "metadata": {},
   "source": [
    "### Task 2. Install prerequisites"
   ]
  },
  {
   "cell_type": "code",
   "execution_count": null,
   "id": "cfb53477-421e-46f2-b79e-9abbc9ddda3b",
   "metadata": {},
   "outputs": [],
   "source": [
    "pip install --upgrade --quiet google-cloud-discoveryengine humanize"
   ]
  },
  {
   "cell_type": "markdown",
   "id": "11dc6dfa-2ff1-4b56-803b-e1062ff4141b",
   "metadata": {},
   "source": [
    "### Task 3. Helper Methods"
   ]
  },
  {
   "cell_type": "code",
   "execution_count": 2,
   "id": "9aa01006-c139-4987-8696-40d40065eed3",
   "metadata": {
    "tags": []
   },
   "outputs": [],
   "source": [
    "import humanize\n",
    "import time\n",
    "import re\n",
    "from typing import List, Optional\n",
    "\n",
    "from google.api_core.client_options import ClientOptions\n",
    "from google.cloud import discoveryengine_v1beta as discoveryengine\n",
    "\n",
    "\n",
    "def _call_list_documents(\n",
    "    project_id: str, location: str, datastore_id: str, page_token: Optional[str] = None\n",
    ") -> discoveryengine.ListDocumentsResponse:\n",
    "    \"\"\"Build the List Docs Request payload.\"\"\"\n",
    "    client_options = (\n",
    "        ClientOptions(\n",
    "            api_endpoint=f\"{location}-discoveryengine.googleapis.com\")\n",
    "        if location != \"global\"\n",
    "        else None\n",
    "    )\n",
    "    client = discoveryengine.DocumentServiceClient(\n",
    "        client_options=client_options)\n",
    "\n",
    "    request = discoveryengine.ListDocumentsRequest(\n",
    "        parent=client.branch_path(\n",
    "            project_id, location, datastore_id, \"default_branch\"\n",
    "        ),\n",
    "        page_size=1000,\n",
    "        page_token=page_token,\n",
    "    )\n",
    "\n",
    "    return client.list_documents(request=request)\n",
    "\n",
    "\n",
    "def list_documents(\n",
    "    project_id: str, location: str, datastore_id: str, rate_limit: int = 1\n",
    ") -> List[discoveryengine.Document]:\n",
    "    \"\"\"Gets a list of docs in a datastore.\"\"\"\n",
    "\n",
    "    res = _call_list_documents(project_id, location, datastore_id)\n",
    "\n",
    "    # setup the list with the first batch of docs\n",
    "    docs = res.documents\n",
    "\n",
    "    while res.next_page_token:\n",
    "        # implement a rate_limit to prevent quota exhaustion\n",
    "        time.sleep(rate_limit)\n",
    "\n",
    "        res = _call_list_documents(\n",
    "            project_id, location, datastore_id, res.next_page_token\n",
    "        )\n",
    "        docs.extend(res.documents)\n",
    "\n",
    "    return docs\n",
    "\n",
    "\n",
    "def list_indexed_urls(\n",
    "    docs: Optional[List[discoveryengine.Document]] = None,\n",
    "    project_id: str = None,\n",
    "    location: str = None,\n",
    "    datastore_id: str = None,\n",
    ") -> List[str]:\n",
    "    \"\"\"Get the list of docs in data store, then parse to only urls.\"\"\"\n",
    "    if not docs:\n",
    "        docs = list_documents(project_id, location, datastore_id)\n",
    "    urls = [doc.content.uri for doc in docs]\n",
    "\n",
    "    return urls\n",
    "\n",
    "\n",
    "def search_url(urls: List[str], url: str) -> None:\n",
    "    \"\"\"Searches a url in a list of urls.\"\"\"\n",
    "    for item in urls:\n",
    "        if url in item:\n",
    "            print(item)\n",
    "\n",
    "\n",
    "def search_doc_id(\n",
    "    doc_id: str,\n",
    "    docs: Optional[List[discoveryengine.Document]] = None,\n",
    "    project_id: str = None,\n",
    "    location: str = None,\n",
    "    datastore_id: str = None,\n",
    ") -> None:\n",
    "    \"\"\"Searches a doc_id in a list of docs.\"\"\"\n",
    "    if not docs:\n",
    "        docs = list_documents(project_id, location, datastore_id)\n",
    "\n",
    "    doc_found = False\n",
    "    for doc in docs:\n",
    "        if doc.parent_document_id == doc_id:\n",
    "            doc_found = True\n",
    "            print(doc)\n",
    "\n",
    "    if not doc_found:\n",
    "        print(f\"Document not found for provided Doc ID: `{doc_id}`\")\n",
    "\n",
    "\n",
    "def estimate_data_store_size(\n",
    "    urls: Optional[List[str]] = None,\n",
    "    docs: Optional[List[discoveryengine.Document]] = None,\n",
    "    project_id: str = None,\n",
    "    location: str = None,\n",
    "    datastore_id: str = None,\n",
    ") -> None:\n",
    "    \"\"\"For Advanced Website Indexing data stores only.\"\"\"\n",
    "    if not urls:\n",
    "        if not docs:\n",
    "            docs = list_documents(project_id, location, datastore_id)\n",
    "        urls = list_indexed_urls(docs=docs)\n",
    "\n",
    "    # Filter to only include website urls.\n",
    "    urls = list(filter(lambda x: re.search(r\"https?://\", x), urls))\n",
    "\n",
    "    if not urls:\n",
    "        print(\n",
    "            \"No urls found. Make sure this data store is for websites with advanced indexing.\"\n",
    "        )\n",
    "        return\n",
    "\n",
    "    # For website indexing, each page is calculated as 500KB.\n",
    "    size = len(urls) * 500_000\n",
    "    print(f\"Estimated data store size: {humanize.naturalsize(size)}\")\n",
    "\n",
    "\n",
    "PENDING_MESSAGE = \"\"\"\n",
    "No docs found.\\n\\nIt\\'s likely one of the following issues: \\n  [1] Your data store is not finished indexing. \\n  [2] Your data store failed indexing. \\n  [3] Your data store is for website data without advanced indexing.\\n\\n\n",
    "If you just added your data store, it can take up to 4 hours before it will become available.\n",
    "\"\"\""
   ]
  },
  {
   "cell_type": "markdown",
   "id": "fd9812c3-94f3-4efc-8861-d9b5a790a664",
   "metadata": {},
   "source": [
    "### Task 4. User Inputs"
   ]
  },
  {
   "cell_type": "markdown",
   "id": "0cc09008-ca80-44fc-87aa-a3328517b9a6",
   "metadata": {},
   "source": [
    "#### Creating a new data store.\n",
    "\n",
    "1. Navigate to [Agent Builder console](https://console.cloud.google.com/gen-app-builder/start) and click on CONTINUE AND ACTIVATE THE API button.\n",
    "2. In the **Create App** page, select **Chat** as an App type.\n",
    "3. For **Company Name** enter `Cymbal`. For **Agent Name** enter `cymbalagent` and click **CONTINUE**.\n",
    "4. In the **Data Stores** page, click **+ CREATE NEW DATA STORE**.\n",
    "5. Select **Cloud Storage**, and enter the following Google Cloud Storage location `cloud-samples-data/dialogflow-cx/arc-lifeblood` to add the folder. Then select **Unstructured documents** under **What kind of data are you importing?** section and finally click **CONTINUE**.\n",
    "6. For Data store name, enter **cymbaldatastore** and click **CREATE**. This creates a Data store.\n",
    "7. Finally on the App's Data page, select **cymbaldatastore** and click on **CREATE**.\n",
    "8. Click on cymbaldatastore and note down the Data store ID."
   ]
  },
  {
   "cell_type": "markdown",
   "id": "cb09b9aa-9414-46b5-823d-aa6921097838",
   "metadata": {},
   "source": [
    "### Task 5. Check Data Store Index Status\n",
    "\n",
    "Let's use the `list_documents` method, to check if the data store has finished indexing."
   ]
  },
  {
   "cell_type": "code",
   "execution_count": 3,
   "id": "fa9ea2a7-d14c-4d4d-8203-3344f6267c1f",
   "metadata": {
    "tags": []
   },
   "outputs": [],
   "source": [
    "PROJECT = !gcloud config get-value project\n",
    "project_id  = PROJECT[0]\n",
    "location = \"global\"  # Options: \"global\", \"us\", \"eu\"\n",
    "datastore_id = \"cymbaldatastore_1737322168745\""
   ]
  },
  {
   "cell_type": "code",
   "execution_count": 6,
   "id": "8f257fab-41db-4f0d-9829-702f20949992",
   "metadata": {
    "tags": []
   },
   "outputs": [
    {
     "name": "stdout",
     "output_type": "stream",
     "text": [
      "\n",
      "  Success! 🎉\n",
      "\n",
      "  Your indexing is complete.\n",
      "\n",
      "  Your index contains 79 documents.\n",
      "  \n"
     ]
    }
   ],
   "source": [
    "docs = list_documents(project_id, location, datastore_id)\n",
    "\n",
    "if len(docs) == 0:\n",
    "    print(PENDING_MESSAGE)\n",
    "else:\n",
    "    SUCCESS_MESSAGE = f\"\"\"\n",
    "  Success! 🎉\\n\n",
    "  Your indexing is complete.\\n\n",
    "  Your index contains {len(docs)} documents.\n",
    "  \"\"\"\n",
    "    print(SUCCESS_MESSAGE)"
   ]
  },
  {
   "cell_type": "markdown",
   "id": "e3e4098d-6fa5-4525-a700-f65dd7175098",
   "metadata": {},
   "source": [
    "### Task 6. List Documents"
   ]
  },
  {
   "cell_type": "code",
   "execution_count": 7,
   "id": "66c370aa-5fef-461f-abd7-af6fcf22df91",
   "metadata": {
    "tags": []
   },
   "outputs": [
    {
     "data": {
      "text/plain": [
       "name: \"projects/353022593964/locations/global/collections/default_collection/dataStores/cymbaldatastore_1737322168745/branches/0/documents/01c3140622cfed9a86572e550ed049a0\"\n",
       "id: \"01c3140622cfed9a86572e550ed049a0\"\n",
       "schema_id: \"default_schema\"\n",
       "struct_data {\n",
       "}\n",
       "parent_document_id: \"01c3140622cfed9a86572e550ed049a0\"\n",
       "content {\n",
       "  mime_type: \"text/html\"\n",
       "  uri: \"gs://cloud-samples-data/dialogflow-cx/arc-lifeblood/testing.html\"\n",
       "}"
      ]
     },
     "execution_count": 7,
     "metadata": {},
     "output_type": "execute_result"
    }
   ],
   "source": [
    "docs = list_documents(project_id, location, datastore_id)\n",
    "docs[0]"
   ]
  },
  {
   "cell_type": "markdown",
   "id": "acdad055-b234-4f22-864c-cf696b536ceb",
   "metadata": {},
   "source": [
    "### Task 7. Search Data Store by Doc ID\n",
    "\n",
    "Let's search through all docs in a given Data Store and find a specific Doc ID.\n",
    "\n",
    "In the following command, replace the **placeholder_document_id** with the value of **parent_document_id** from the last output."
   ]
  },
  {
   "cell_type": "code",
   "execution_count": 8,
   "id": "d1606415-faa0-4e31-990d-92e059766628",
   "metadata": {
    "tags": []
   },
   "outputs": [
    {
     "name": "stdout",
     "output_type": "stream",
     "text": [
      "name: \"projects/353022593964/locations/global/collections/default_collection/dataStores/cymbaldatastore_1737322168745/branches/0/documents/01c3140622cfed9a86572e550ed049a0\"\n",
      "id: \"01c3140622cfed9a86572e550ed049a0\"\n",
      "schema_id: \"default_schema\"\n",
      "struct_data {\n",
      "}\n",
      "parent_document_id: \"01c3140622cfed9a86572e550ed049a0\"\n",
      "content {\n",
      "  mime_type: \"text/html\"\n",
      "  uri: \"gs://cloud-samples-data/dialogflow-cx/arc-lifeblood/testing.html\"\n",
      "}\n",
      "\n"
     ]
    }
   ],
   "source": [
    "document_id = \"01c3140622cfed9a86572e550ed049a0\"\n",
    "search_doc_id(document_id, docs=docs)"
   ]
  },
  {
   "cell_type": "markdown",
   "id": "ecb9d370-41cb-4b33-bd47-cdc3b3461c2a",
   "metadata": {},
   "source": [
    "### Task 8. List Indexed URLs"
   ]
  },
  {
   "cell_type": "code",
   "execution_count": 9,
   "id": "42a285a2-32f8-4754-8a39-7a70b4572b5f",
   "metadata": {
    "tags": []
   },
   "outputs": [
    {
     "data": {
      "text/plain": [
       "'gs://cloud-samples-data/dialogflow-cx/arc-lifeblood/testing.html'"
      ]
     },
     "execution_count": 9,
     "metadata": {},
     "output_type": "execute_result"
    }
   ],
   "source": [
    "urls = list_indexed_urls(docs=docs)\n",
    "urls[0]"
   ]
  },
  {
   "cell_type": "markdown",
   "id": "da1728da-e803-4190-9d80-daf1e05b25a0",
   "metadata": {},
   "source": [
    "### Task 9. Search Indexed URLs"
   ]
  },
  {
   "cell_type": "code",
   "execution_count": 10,
   "id": "750b5147-a5fe-4b69-8d13-18e3b9c776a7",
   "metadata": {
    "tags": []
   },
   "outputs": [
    {
     "name": "stdout",
     "output_type": "stream",
     "text": [
      "gs://cloud-samples-data/dialogflow-cx/arc-lifeblood/testing.html\n",
      "gs://cloud-samples-data/dialogflow-cx/arc-lifeblood/strategy.html\n",
      "gs://cloud-samples-data/dialogflow-cx/arc-lifeblood/making-blood-components.html\n",
      "gs://cloud-samples-data/dialogflow-cx/arc-lifeblood/making-your-donation.html\n",
      "gs://cloud-samples-data/dialogflow-cx/arc-lifeblood/products.html\n",
      "gs://cloud-samples-data/dialogflow-cx/arc-lifeblood/high-ferritin.html\n",
      "gs://cloud-samples-data/dialogflow-cx/arc-lifeblood/forms.html\n",
      "gs://cloud-samples-data/dialogflow-cx/arc-lifeblood/blood-for-transfusion.html\n",
      "gs://cloud-samples-data/dialogflow-cx/arc-lifeblood/how-you-can-give-life.html\n",
      "gs://cloud-samples-data/dialogflow-cx/arc-lifeblood/transplantation-immunogenetics-services.html\n",
      "gs://cloud-samples-data/dialogflow-cx/arc-lifeblood/blood.html\n",
      "gs://cloud-samples-data/dialogflow-cx/arc-lifeblood/prepare-and-aftercare.html\n",
      "gs://cloud-samples-data/dialogflow-cx/arc-lifeblood/our-strategy.html\n",
      "gs://cloud-samples-data/dialogflow-cx/arc-lifeblood/our-history.html\n",
      "gs://cloud-samples-data/dialogflow-cx/arc-lifeblood/our-services.html\n",
      "gs://cloud-samples-data/dialogflow-cx/arc-lifeblood/about.html\n",
      "gs://cloud-samples-data/dialogflow-cx/arc-lifeblood/iron-deficiency.html\n",
      "gs://cloud-samples-data/dialogflow-cx/arc-lifeblood/iron-health.html\n",
      "gs://cloud-samples-data/dialogflow-cx/arc-lifeblood/donor-centre.html\n",
      "gs://cloud-samples-data/dialogflow-cx/arc-lifeblood/fainting.html\n",
      "gs://cloud-samples-data/dialogflow-cx/arc-lifeblood/reasons-for-a-transfusion.html\n",
      "gs://cloud-samples-data/dialogflow-cx/arc-lifeblood/sexual-activity.html\n",
      "gs://cloud-samples-data/dialogflow-cx/arc-lifeblood/learn-about-blood.html\n",
      "gs://cloud-samples-data/dialogflow-cx/arc-lifeblood/avoid-a-transfusion.html\n",
      "gs://cloud-samples-data/dialogflow-cx/arc-lifeblood/relax-when-giving-blood.html\n",
      "gs://cloud-samples-data/dialogflow-cx/arc-lifeblood/our-research.html\n",
      "gs://cloud-samples-data/dialogflow-cx/arc-lifeblood/milk-research.html\n",
      "gs://cloud-samples-data/dialogflow-cx/arc-lifeblood/donating-after-travelling.html\n",
      "gs://cloud-samples-data/dialogflow-cx/arc-lifeblood/trending-research.html\n",
      "gs://cloud-samples-data/dialogflow-cx/arc-lifeblood/become-a-milk-donor.html\n",
      "gs://cloud-samples-data/dialogflow-cx/arc-lifeblood/milk-donation-guide.html\n",
      "gs://cloud-samples-data/dialogflow-cx/arc-lifeblood/serum-eyedrops.html\n",
      "gs://cloud-samples-data/dialogflow-cx/arc-lifeblood/resources.html\n",
      "gs://cloud-samples-data/dialogflow-cx/arc-lifeblood/training.html\n",
      "gs://cloud-samples-data/dialogflow-cx/arc-lifeblood/resource-library.html\n",
      "gs://cloud-samples-data/dialogflow-cx/arc-lifeblood/blood-types.html\n",
      "gs://cloud-samples-data/dialogflow-cx/arc-lifeblood/milk.html\n",
      "gs://cloud-samples-data/dialogflow-cx/arc-lifeblood/matching-blood-groups.html\n",
      "gs://cloud-samples-data/dialogflow-cx/arc-lifeblood/parents.html\n",
      "gs://cloud-samples-data/dialogflow-cx/arc-lifeblood/blood-stem-cell.html\n",
      "gs://cloud-samples-data/dialogflow-cx/arc-lifeblood/anaemia.html\n",
      "gs://cloud-samples-data/dialogflow-cx/arc-lifeblood/information-for-suppliers.html\n",
      "gs://cloud-samples-data/dialogflow-cx/arc-lifeblood/news-and-stories.html\n",
      "gs://cloud-samples-data/dialogflow-cx/arc-lifeblood/COVID-19-vaccine.html\n",
      "gs://cloud-samples-data/dialogflow-cx/arc-lifeblood/faq.html\n",
      "gs://cloud-samples-data/dialogflow-cx/arc-lifeblood/who-we-are.html\n",
      "gs://cloud-samples-data/dialogflow-cx/arc-lifeblood/receiving-a-transfusion.html\n",
      "gs://cloud-samples-data/dialogflow-cx/arc-lifeblood/why-donate-blood.html\n",
      "gs://cloud-samples-data/dialogflow-cx/arc-lifeblood/donate-as-a-group.html\n",
      "gs://cloud-samples-data/dialogflow-cx/arc-lifeblood/what-happens-to-your-blood.html\n",
      "gs://cloud-samples-data/dialogflow-cx/arc-lifeblood/our-people.html\n",
      "gs://cloud-samples-data/dialogflow-cx/arc-lifeblood/organ-and-tissue.html\n",
      "gs://cloud-samples-data/dialogflow-cx/arc-lifeblood/inventory-management.html\n",
      "gs://cloud-samples-data/dialogflow-cx/arc-lifeblood/plasma.html\n",
      "gs://cloud-samples-data/dialogflow-cx/arc-lifeblood/featured-resources.html\n",
      "gs://cloud-samples-data/dialogflow-cx/arc-lifeblood/types-of-transfusions.html\n",
      "gs://cloud-samples-data/dialogflow-cx/arc-lifeblood/careers.html\n",
      "gs://cloud-samples-data/dialogflow-cx/arc-lifeblood/partner-with-us.html\n",
      "gs://cloud-samples-data/dialogflow-cx/arc-lifeblood/eligibility.html\n",
      "gs://cloud-samples-data/dialogflow-cx/arc-lifeblood/index.html\n",
      "gs://cloud-samples-data/dialogflow-cx/arc-lifeblood/red-cell-reference.html\n",
      "gs://cloud-samples-data/dialogflow-cx/arc-lifeblood/privacy.html\n",
      "gs://cloud-samples-data/dialogflow-cx/arc-lifeblood/know-the-risks.html\n",
      "gs://cloud-samples-data/dialogflow-cx/arc-lifeblood/global-search-footer.html\n",
      "gs://cloud-samples-data/dialogflow-cx/arc-lifeblood/program.html\n",
      "gs://cloud-samples-data/dialogflow-cx/arc-lifeblood/learn.html\n",
      "gs://cloud-samples-data/dialogflow-cx/arc-lifeblood/blood-testing-and-safety.html\n",
      "gs://cloud-samples-data/dialogflow-cx/arc-lifeblood/patients.html\n",
      "gs://cloud-samples-data/dialogflow-cx/arc-lifeblood/health-professionals.html\n",
      "gs://cloud-samples-data/dialogflow-cx/arc-lifeblood/disclaimer.html\n",
      "gs://cloud-samples-data/dialogflow-cx/arc-lifeblood/microbiome.html\n",
      "gs://cloud-samples-data/dialogflow-cx/arc-lifeblood/clinical-practice.html\n",
      "gs://cloud-samples-data/dialogflow-cx/arc-lifeblood/quiz.html\n",
      "gs://cloud-samples-data/dialogflow-cx/arc-lifeblood/safety.html\n",
      "gs://cloud-samples-data/dialogflow-cx/arc-lifeblood/coronavirus.html\n",
      "gs://cloud-samples-data/dialogflow-cx/arc-lifeblood/start-quiz.html\n",
      "gs://cloud-samples-data/dialogflow-cx/arc-lifeblood/meet-our-researchers.html\n",
      "gs://cloud-samples-data/dialogflow-cx/arc-lifeblood/contact.html\n",
      "gs://cloud-samples-data/dialogflow-cx/arc-lifeblood/platelets.html\n"
     ]
    }
   ],
   "source": [
    "search_url(urls, \"gs://cloud-samples-data/dialogflow-cx/arc-lifeblood\")"
   ]
  },
  {
   "cell_type": "code",
   "execution_count": 11,
   "id": "6a1143eb-b4be-4a6d-8a49-e7f029f84bf4",
   "metadata": {
    "tags": []
   },
   "outputs": [
    {
     "name": "stdout",
     "output_type": "stream",
     "text": [
      "gs://cloud-samples-data/dialogflow-cx/arc-lifeblood/testing.html\n",
      "gs://cloud-samples-data/dialogflow-cx/arc-lifeblood/strategy.html\n",
      "gs://cloud-samples-data/dialogflow-cx/arc-lifeblood/making-blood-components.html\n",
      "gs://cloud-samples-data/dialogflow-cx/arc-lifeblood/making-your-donation.html\n",
      "gs://cloud-samples-data/dialogflow-cx/arc-lifeblood/products.html\n",
      "gs://cloud-samples-data/dialogflow-cx/arc-lifeblood/high-ferritin.html\n",
      "gs://cloud-samples-data/dialogflow-cx/arc-lifeblood/forms.html\n",
      "gs://cloud-samples-data/dialogflow-cx/arc-lifeblood/blood-for-transfusion.html\n",
      "gs://cloud-samples-data/dialogflow-cx/arc-lifeblood/how-you-can-give-life.html\n",
      "gs://cloud-samples-data/dialogflow-cx/arc-lifeblood/transplantation-immunogenetics-services.html\n",
      "gs://cloud-samples-data/dialogflow-cx/arc-lifeblood/blood.html\n",
      "gs://cloud-samples-data/dialogflow-cx/arc-lifeblood/prepare-and-aftercare.html\n",
      "gs://cloud-samples-data/dialogflow-cx/arc-lifeblood/our-strategy.html\n",
      "gs://cloud-samples-data/dialogflow-cx/arc-lifeblood/our-history.html\n",
      "gs://cloud-samples-data/dialogflow-cx/arc-lifeblood/our-services.html\n",
      "gs://cloud-samples-data/dialogflow-cx/arc-lifeblood/about.html\n",
      "gs://cloud-samples-data/dialogflow-cx/arc-lifeblood/iron-deficiency.html\n",
      "gs://cloud-samples-data/dialogflow-cx/arc-lifeblood/iron-health.html\n",
      "gs://cloud-samples-data/dialogflow-cx/arc-lifeblood/donor-centre.html\n",
      "gs://cloud-samples-data/dialogflow-cx/arc-lifeblood/fainting.html\n",
      "gs://cloud-samples-data/dialogflow-cx/arc-lifeblood/reasons-for-a-transfusion.html\n",
      "gs://cloud-samples-data/dialogflow-cx/arc-lifeblood/sexual-activity.html\n",
      "gs://cloud-samples-data/dialogflow-cx/arc-lifeblood/learn-about-blood.html\n",
      "gs://cloud-samples-data/dialogflow-cx/arc-lifeblood/avoid-a-transfusion.html\n",
      "gs://cloud-samples-data/dialogflow-cx/arc-lifeblood/relax-when-giving-blood.html\n",
      "gs://cloud-samples-data/dialogflow-cx/arc-lifeblood/our-research.html\n",
      "gs://cloud-samples-data/dialogflow-cx/arc-lifeblood/milk-research.html\n",
      "gs://cloud-samples-data/dialogflow-cx/arc-lifeblood/donating-after-travelling.html\n",
      "gs://cloud-samples-data/dialogflow-cx/arc-lifeblood/trending-research.html\n",
      "gs://cloud-samples-data/dialogflow-cx/arc-lifeblood/become-a-milk-donor.html\n",
      "gs://cloud-samples-data/dialogflow-cx/arc-lifeblood/milk-donation-guide.html\n",
      "gs://cloud-samples-data/dialogflow-cx/arc-lifeblood/serum-eyedrops.html\n",
      "gs://cloud-samples-data/dialogflow-cx/arc-lifeblood/resources.html\n",
      "gs://cloud-samples-data/dialogflow-cx/arc-lifeblood/training.html\n",
      "gs://cloud-samples-data/dialogflow-cx/arc-lifeblood/resource-library.html\n",
      "gs://cloud-samples-data/dialogflow-cx/arc-lifeblood/blood-types.html\n",
      "gs://cloud-samples-data/dialogflow-cx/arc-lifeblood/milk.html\n",
      "gs://cloud-samples-data/dialogflow-cx/arc-lifeblood/matching-blood-groups.html\n",
      "gs://cloud-samples-data/dialogflow-cx/arc-lifeblood/parents.html\n",
      "gs://cloud-samples-data/dialogflow-cx/arc-lifeblood/blood-stem-cell.html\n",
      "gs://cloud-samples-data/dialogflow-cx/arc-lifeblood/anaemia.html\n",
      "gs://cloud-samples-data/dialogflow-cx/arc-lifeblood/information-for-suppliers.html\n",
      "gs://cloud-samples-data/dialogflow-cx/arc-lifeblood/news-and-stories.html\n",
      "gs://cloud-samples-data/dialogflow-cx/arc-lifeblood/COVID-19-vaccine.html\n",
      "gs://cloud-samples-data/dialogflow-cx/arc-lifeblood/faq.html\n",
      "gs://cloud-samples-data/dialogflow-cx/arc-lifeblood/who-we-are.html\n",
      "gs://cloud-samples-data/dialogflow-cx/arc-lifeblood/receiving-a-transfusion.html\n",
      "gs://cloud-samples-data/dialogflow-cx/arc-lifeblood/why-donate-blood.html\n",
      "gs://cloud-samples-data/dialogflow-cx/arc-lifeblood/donate-as-a-group.html\n",
      "gs://cloud-samples-data/dialogflow-cx/arc-lifeblood/what-happens-to-your-blood.html\n",
      "gs://cloud-samples-data/dialogflow-cx/arc-lifeblood/our-people.html\n",
      "gs://cloud-samples-data/dialogflow-cx/arc-lifeblood/organ-and-tissue.html\n",
      "gs://cloud-samples-data/dialogflow-cx/arc-lifeblood/inventory-management.html\n",
      "gs://cloud-samples-data/dialogflow-cx/arc-lifeblood/plasma.html\n",
      "gs://cloud-samples-data/dialogflow-cx/arc-lifeblood/featured-resources.html\n",
      "gs://cloud-samples-data/dialogflow-cx/arc-lifeblood/types-of-transfusions.html\n",
      "gs://cloud-samples-data/dialogflow-cx/arc-lifeblood/careers.html\n",
      "gs://cloud-samples-data/dialogflow-cx/arc-lifeblood/partner-with-us.html\n",
      "gs://cloud-samples-data/dialogflow-cx/arc-lifeblood/eligibility.html\n",
      "gs://cloud-samples-data/dialogflow-cx/arc-lifeblood/index.html\n",
      "gs://cloud-samples-data/dialogflow-cx/arc-lifeblood/red-cell-reference.html\n",
      "gs://cloud-samples-data/dialogflow-cx/arc-lifeblood/privacy.html\n",
      "gs://cloud-samples-data/dialogflow-cx/arc-lifeblood/know-the-risks.html\n",
      "gs://cloud-samples-data/dialogflow-cx/arc-lifeblood/global-search-footer.html\n",
      "gs://cloud-samples-data/dialogflow-cx/arc-lifeblood/program.html\n",
      "gs://cloud-samples-data/dialogflow-cx/arc-lifeblood/learn.html\n",
      "gs://cloud-samples-data/dialogflow-cx/arc-lifeblood/blood-testing-and-safety.html\n",
      "gs://cloud-samples-data/dialogflow-cx/arc-lifeblood/patients.html\n",
      "gs://cloud-samples-data/dialogflow-cx/arc-lifeblood/health-professionals.html\n",
      "gs://cloud-samples-data/dialogflow-cx/arc-lifeblood/disclaimer.html\n",
      "gs://cloud-samples-data/dialogflow-cx/arc-lifeblood/microbiome.html\n",
      "gs://cloud-samples-data/dialogflow-cx/arc-lifeblood/clinical-practice.html\n",
      "gs://cloud-samples-data/dialogflow-cx/arc-lifeblood/quiz.html\n",
      "gs://cloud-samples-data/dialogflow-cx/arc-lifeblood/safety.html\n",
      "gs://cloud-samples-data/dialogflow-cx/arc-lifeblood/coronavirus.html\n",
      "gs://cloud-samples-data/dialogflow-cx/arc-lifeblood/start-quiz.html\n",
      "gs://cloud-samples-data/dialogflow-cx/arc-lifeblood/meet-our-researchers.html\n",
      "gs://cloud-samples-data/dialogflow-cx/arc-lifeblood/contact.html\n",
      "gs://cloud-samples-data/dialogflow-cx/arc-lifeblood/platelets.html\n"
     ]
    }
   ],
   "source": [
    "search_url(urls, \"dialogflow-cx\")"
   ]
  }
 ],
 "metadata": {
  "environment": {
   "kernel": "conda-base-py",
   "name": "workbench-notebooks.m127",
   "type": "gcloud",
   "uri": "us-docker.pkg.dev/deeplearning-platform-release/gcr.io/workbench-notebooks:m127"
  },
  "kernelspec": {
   "display_name": "Python 3 (ipykernel) (Local) (Local)",
   "language": "python",
   "name": "conda-base-py"
  },
  "language_info": {
   "codemirror_mode": {
    "name": "ipython",
    "version": 3
   },
   "file_extension": ".py",
   "mimetype": "text/x-python",
   "name": "python",
   "nbconvert_exporter": "python",
   "pygments_lexer": "ipython3",
   "version": "3.10.16"
  }
 },
 "nbformat": 4,
 "nbformat_minor": 5
}
