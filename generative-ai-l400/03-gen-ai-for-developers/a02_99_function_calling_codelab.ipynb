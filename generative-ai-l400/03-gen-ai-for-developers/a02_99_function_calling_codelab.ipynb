{
 "cells": [
  {
   "cell_type": "markdown",
   "metadata": {},
   "source": [
    "## How to Interact with APIs Using Function Calling in Gemini\n"
   ]
  },
  {
   "cell_type": "markdown",
   "metadata": {},
   "source": [
    "### 1. Overview\n",
    "\n",
    "**What is function calling in Gemini?**\n",
    "\n",
    "The [Vertex AI Gemini API](https://cloud.google.com/vertex-ai/docs/generative-ai/multimodal/overview) is a family of generative AI models developed by Google DeepMind that is designed for multimodal use cases. [Function calling](https://cloud.google.com/vertex-ai/docs/generative-ai/multimodal/function-calling) is a feature of Gemini models that makes it easier for developers to get structured data outputs from generative models.\n",
    "\n",
    "Developers can then use these outputs to call other APIs and return the relevant response data to the model. In other words, function calling helps you connect your generative models to external systems so that the generated content includes the most up-to-date and accurate information.\n",
    "\n",
    "**How function calling works**\n",
    "\n",
    "Functions are described using function declarations, which helps the generative model understand the purpose and parameters within a function. After you pass function declarations in a query to a generative model, the model returns a structured object that includes the names of relevant functions and their arguments based on the user's query. Note that with function calling, the model doesn't actually call the function. Instead, you can use the returned function and parameters to call the function in any language, library, or framework that you'd like!\n",
    "\n",
    "**What you'll build**\n",
    "\n",
    "In this codelab, you'll build a generative AI pipeline with the Vertex AI Gemini API and Python. Using your app, users can ask about exchange rates, and the system will fetch the latest data from an external API and respond to the user with the answer.\n",
    "\n",
    "**What you'll learn**\n",
    "\n",
    "- How to interact with the Gemini model using the Python client library\n",
    "- How to define a function declaration and register it as a tool\n",
    "- How to call Gemini and get a function call response\n",
    "- How to return the function response to Gemini and respond to the user\n"
   ]
  },
  {
   "cell_type": "markdown",
   "metadata": {},
   "source": [
    "### 2. Setup and requirements\n",
    "\n",
    "- Enable Vertex AI API\n",
    "- Install Python client library for Vertex AI\n"
   ]
  },
  {
   "cell_type": "code",
   "execution_count": 1,
   "metadata": {},
   "outputs": [],
   "source": [
    "! pip install --upgrade --quiet google-cloud-aiplatform"
   ]
  },
  {
   "cell_type": "markdown",
   "metadata": {},
   "source": [
    "### 3. Understand the problem\n",
    "\n",
    "Have you ever interacted with a large language model or generative AI model and asked it about real-time or current information, only to get a response with outdated information or inaccurate information?\n",
    "\n",
    "Let's try it now! First, we'll import the relevant Python packages and initialize the Gemini model. You can run the following code in a Python development environment such as Colab or Colab Enterprise and by installing the latest version of the Vertex AI SDK for Python:\n"
   ]
  },
  {
   "cell_type": "code",
   "execution_count": 5,
   "metadata": {},
   "outputs": [],
   "source": [
    "import os\n",
    "import vertexai\n",
    "from vertexai.generative_models import GenerativeModel\n",
    "\n",
    "# from google.auth import default\n",
    "\n",
    "# if os.getenv(\"TRAINING_CREDENTIALS\") is not None:\n",
    "#     print(\"authenticate with a service account...\")\n",
    "#     os.environ[\"GOOGLE_APPLICATION_CREDENTIALS\"] = os.environ[\"TRAINING_CREDENTIALS\"]\n",
    "\n",
    "# credentials, project = default(quota_project_id=os.environ[\"TRAINING_PROJECT_ID\"])\n",
    "\n",
    "# define project and location details\n",
    "PROJECT_ID = os.environ[\"TRAINING_PROJECT_ID\"]\n",
    "LOCATION = \"us-central1\"\n",
    "\n",
    "vertexai.init(project=PROJECT_ID, location=LOCATION)\n",
    "\n",
    "model = GenerativeModel(\"gemini-1.5-pro-001\")"
   ]
  },
  {
   "cell_type": "markdown",
   "metadata": {},
   "source": [
    "Now, let's ask a question about the exchange rate for different currencies today:\n"
   ]
  },
  {
   "cell_type": "code",
   "execution_count": 6,
   "metadata": {},
   "outputs": [
    {
     "name": "stdout",
     "output_type": "stream",
     "text": [
      "I do not have access to real-time information, including constantly fluctuating data like currency exchange rates. \n",
      "\n",
      "To get the most up-to-date exchange rate for euros to dollars, I recommend checking a reliable online source such as:\n",
      "\n",
      "* **Google Finance:** Search \"EUR to USD\" on Google\n",
      "* **XE.com:** This website specializes in currency conversions\n",
      "* **Your Bank's Website:** Many banks provide current exchange rates for their customers\n",
      "\n",
      "Please keep in mind that exchange rates are constantly changing, and the rate you see may differ slightly depending on the provider and any associated fees. \n",
      "\n"
     ]
    }
   ],
   "source": [
    "response = model.generate_content(\n",
    "    \"What's the exchange rate for euros to dollars today?\"\n",
    ")\n",
    "print(response.text)"
   ]
  },
  {
   "cell_type": "markdown",
   "metadata": {},
   "source": [
    "If an end-user received this type of response, they would need to switch contexts to look up the currencies that they're interested in, fetch the latest exchange rate, and perform any conversions on their own.\n",
    "\n",
    "Ideally, a generative model pipeline could handle some or all of these tasks for the user. In the next section, you'll try some common workarounds for getting structured responses from generative models so that you can call external systems.\n"
   ]
  },
  {
   "cell_type": "markdown",
   "metadata": {},
   "source": [
    "### 4. Try common workarounds\n",
    "\n",
    "When working with generative models in scenarios where you need up-to-date information or data from external sources, you could call an external API then feed the results back to the generative model for it to use in its response.\n",
    "\n",
    "Before you call an external system, you need to determine the right function to use, extract the relevant parameters from the user, and put the parameters into a structured data object. This usually involves exhaustive prompt engineering to coerce the generative model to output valid structured data.\n",
    "\n",
    "Let's revisit the question that we asked in the previous section and add some additional instructions for the model. Try sending the following request to the Gemini model:\n"
   ]
  },
  {
   "cell_type": "code",
   "execution_count": 7,
   "metadata": {},
   "outputs": [
    {
     "name": "stdout",
     "output_type": "stream",
     "text": [
      "```json\n",
      "{\n",
      "  \"from\": \"euros\",\n",
      "  \"to\": \"US dollars\"\n",
      "}\n",
      "``` \n",
      "\n"
     ]
    }
   ],
   "source": [
    "user_prompt = \"What's the exchange rate from euros to US dollars today?\"\n",
    "\n",
    "response = model.generate_content(\n",
    "    \"\"\"\n",
    "Your task is to extract parameters from the user's input and return it as a\n",
    "structured JSON payload. The user will ask about the exchange rate and which\n",
    "currency they are converting from and converting to.\n",
    "\n",
    "User input: {user_prompt}\n",
    "\n",
    "Please extract the currencies as parameters and put them in a JSON object.\n",
    "\"\"\".format(user_prompt=user_prompt)\n",
    ")\n",
    "print(response.text)"
   ]
  },
  {
   "cell_type": "markdown",
   "metadata": {},
   "source": [
    "In particular, the first and last lines of the text response include backticks to delimit the code block, the first line includes a language specifier, and the values in the JSON object are not the standard three-letter currency abbreviations that a currency exchange API would expect as input parameters.\n",
    "\n",
    "We could try to use Python to post-process this text into valid JSON and a dictionary, add more instructions to the prompt, provide one or more examples of desired output, fine-tune the model, or make another call to the generative model asking it to clean up the JSON.\n",
    "\n",
    "But there is a more deterministic way! Let's learn how to use function calling in Gemini to query for information in external services and return relevant responses to end-users.\n"
   ]
  },
  {
   "cell_type": "markdown",
   "metadata": {},
   "source": [
    "### 5. How function calling works\n",
    "\n",
    "Before we get started with parameter extraction and function calling, let's walk through the steps of function calling and which components are used at runtime.\n",
    "\n",
    "![](./images/gemini-function-calling-overview_1920.png)\n",
    "\n",
    "**User input to Gemini API**\n",
    "\n",
    "The prompt from the user is sent to the Gemini API, and in that API call to the Gemini model, the developer has defined one or more function declarations within a tool so that the Gemini model knows which functions it can call and how to call them.\n",
    "\n",
    "> User Input -> Gemini API -> Function Call\n",
    "\n",
    "**The Gemini API returns a Function Call**\n",
    "\n",
    "Based on the content of the user input and prompt, Gemini will return a Function Call response with structured data that includes the name of the function to call and the corresponding parameters to use.\n",
    "\n",
    "> Gemini API -> Function Call\n",
    "\n",
    "**Make an API request**\n",
    "\n",
    "Then, you'll use the function name and parameters to make an API request to retrieve information from an external system or API. This API request and response is implemented by the developer in the application code and happens outside of the scope of the Gemini API and SDK. For example, you might use the requests library in Python to call a REST API and receive a JSON response. Or you can call the function using your preferred approach and client library.\n",
    "\n",
    "> API Parameters -> External API -> API Response\n",
    "\n",
    "**Return the API Response to Gemini**\n",
    "\n",
    "Finally, you'll pass the API response back to the Gemini model so that it can generate a response to the end-user's initial prompt or invoke another Function Call response if the Gemini model determines that it needs additional information.\n",
    "\n",
    "> API Response -> Function Response -> Model Output\n"
   ]
  },
  {
   "cell_type": "markdown",
   "metadata": {},
   "source": [
    "### 6. Choose your API\n",
    "\n",
    "Now that you understand the overall flow and specific steps in function calling, you'll build a generative AI pipeline to fetch the latest currency exchange rates. First, we'll need to select which API that we want to use as a source of information.\n",
    "\n",
    "For our currency exchange app, we'll use the REST API at https://www.frankfurter.app/ to fetch the latest information about global exchange rates.\n",
    "\n",
    "To interact with this REST API, we might make a REST API call with `requests` in Python as:\n"
   ]
  },
  {
   "cell_type": "code",
   "execution_count": 8,
   "metadata": {},
   "outputs": [
    {
     "data": {
      "text/plain": [
       "'{\"amount\":1.0,\"base\":\"EUR\",\"date\":\"2025-01-22\",\"rates\":{\"AUD\":1.6603,\"BGN\":1.9558,\"BRL\":6.2738,\"CAD\":1.4972,\"CHF\":0.9449,\"CNY\":7.5892,\"CZK\":25.139,\"DKK\":7.4612,\"GBP\":0.84466,\"HKD\":8.1322,\"HUF\":411.08,\"IDR\":16929,\"ILS\":3.6962,\"INR\":90.21,\"ISK\":146.5,\"JPY\":162.72,\"KRW\":1496.01,\"MXN\":21.471,\"MYR\":4.633,\"NOK\":11.7525,\"NZD\":1.8387,\"PHP\":61.003,\"PLN\":4.23,\"RON\":4.9768,\"SEK\":11.467,\"SGD\":1.4126,\"THB\":35.334,\"TRY\":37.231,\"USD\":1.0443,\"ZAR\":19.2877}}'"
      ]
     },
     "execution_count": 8,
     "metadata": {},
     "output_type": "execute_result"
    }
   ],
   "source": [
    "import requests\n",
    "\n",
    "url = \"https://api.frankfurter.app/latest\"\n",
    "response = requests.get(url)\n",
    "response.text"
   ]
  },
  {
   "cell_type": "markdown",
   "metadata": {},
   "source": [
    "or a `cURL` request such as:\n",
    "\n",
    "```bash\n",
    "curl https://api.frankfurter.app/latest\n",
    "```\n"
   ]
  },
  {
   "cell_type": "markdown",
   "metadata": {},
   "source": [
    "Because function calling in Gemini does not actually make the external API call for you, there are no such restrictions on what type of API that you use! You could use a Cloud Run Service, a Cloud Function, an API request to a Google Cloud service, or any external REST API.\n"
   ]
  },
  {
   "cell_type": "markdown",
   "metadata": {},
   "source": [
    "### 7. Define a function and tool\n",
    "\n",
    "Now that you've selected a REST API to use, we can now define an API specification and register the function in a tool.\n",
    "\n",
    "Ensure that you've installed the latest version of the [Vertex AI SDK for Python](https://cloud.google.com/vertex-ai/docs/python-sdk/use-vertex-ai-python-sdk).\n",
    "\n",
    "Then, import the necessary modules from the Python SDK and initialize the Gemini model:\n"
   ]
  },
  {
   "cell_type": "code",
   "execution_count": 9,
   "metadata": {},
   "outputs": [],
   "source": [
    "from vertexai.generative_models import (\n",
    "    Content,\n",
    "    FunctionDeclaration,\n",
    "    GenerativeModel,\n",
    "    Part,\n",
    "    Tool,\n",
    ")\n",
    "\n",
    "model = GenerativeModel(\"gemini-1.5-pro-001\")"
   ]
  },
  {
   "cell_type": "markdown",
   "metadata": {},
   "source": [
    "Referring back to the REST API at https://api.frankfurter.app/, we can see that it accepts the following input parameters:\n",
    "\n",
    "| Parameter | Type   | Description                         |\n",
    "| --------- | ------ | ----------------------------------- |\n",
    "| from      | String | Currency to convert from            |\n",
    "| to        | String | Currency to convert to              |\n",
    "| date      | String | Date to fetch the exchange rate for |\n",
    "\n",
    "Using these parameters, a partial OpenAPI specification for this REST API in YAML format looks like:\n",
    "\n",
    "```yaml\n",
    "openapi: 3.0.0\n",
    "info:\n",
    "  title: Frankfurter Exchange Rate API\n",
    "  description: This API provides current and historical exchange rates\n",
    "  version: 1.0.0\n",
    "servers:\n",
    "  - url: https://api.frankfurter.app\n",
    "paths:\n",
    "  /{date}:\n",
    "    get:\n",
    "      summary: Get the latest currency exchange rates.\n",
    "      parameters:\n",
    "        - name: date\n",
    "          in: path\n",
    "          description: Get currency rates for a specific date or 'latest' if a date is not specified\n",
    "          required: true\n",
    "          schema:\n",
    "            type: string\n",
    "        - name: from\n",
    "          in: query\n",
    "          description: The currency to convert from.\n",
    "          required: true\n",
    "          schema:\n",
    "            type: string\n",
    "        - name: to\n",
    "          in: query\n",
    "          description: The currency to convert to.\n",
    "          schema:\n",
    "            type: string\n",
    "```\n"
   ]
  },
  {
   "cell_type": "markdown",
   "metadata": {},
   "source": [
    "Now, let's register this as a `FunctionDeclaration` using the Python SDK for Gemini:\n"
   ]
  },
  {
   "cell_type": "code",
   "execution_count": 12,
   "metadata": {},
   "outputs": [],
   "source": [
    "get_exchange_rate_func = FunctionDeclaration(\n",
    "    name=\"get_exchange_rate\",\n",
    "    description=\"Get the exchange rate for currencies between countries\",\n",
    "    parameters={\n",
    "        \"type\": \"object\",\n",
    "        \"properties\": {\n",
    "            \"currency_date\": {\n",
    "                \"type\": \"string\",\n",
    "                \"description\": \"A date that must always be in YYYY-MM-DD format or the value 'latest' if a time period is not specified\",\n",
    "            },\n",
    "            \"currency_from\": {\n",
    "                \"type\": \"string\",\n",
    "                \"description\": \"The currency to convert from in ISO 4217 format\",\n",
    "            },\n",
    "            \"currency_to\": {\n",
    "                \"type\": \"string\",\n",
    "                \"description\": \"The currency to convert to in ISO 4217 format\",\n",
    "            },\n",
    "        },\n",
    "        \"required\": [\n",
    "            \"currency_from\",\n",
    "            \"currency_date\",\n",
    "        ],\n",
    "    },\n",
    ")"
   ]
  },
  {
   "cell_type": "markdown",
   "metadata": {},
   "source": [
    "Be sure to use as much detail as possible in the function and parameter descriptions since the generative model will use this information to determine which function to select and how to fill the parameters in the function call.\n",
    "\n",
    "Finally, you'll define a`Tool` that includes the function declaration:\n"
   ]
  },
  {
   "cell_type": "code",
   "execution_count": 13,
   "metadata": {},
   "outputs": [],
   "source": [
    "exchange_rate_tool = Tool(\n",
    "    function_declarations=[get_exchange_rate_func],\n",
    ")"
   ]
  },
  {
   "cell_type": "markdown",
   "metadata": {},
   "source": [
    "Here, you're using one function declaration within a tool, but note that you can register one or more function declarations in a tool, and the model will select the appropriate function to use at runtime. Refer to the documentation on [Function Calling in the Gemini API](https://cloud.google.com/vertex-ai/generative-ai/docs/multimodal/function-calling) for more details on the `FunctionDeclaration`, `Tool`, and related classes in the Gemini SDK for Python.\n",
    "\n",
    "You've completed the configuration of your function and tool definitions. In the next section, we'll call the generative model with this tool and get back a function call that we can use to call the REST API.\n"
   ]
  },
  {
   "cell_type": "markdown",
   "metadata": {},
   "source": [
    "### 8. Generate a function call\n",
    "\n",
    "Now you can prompt the generative model and include the `tool` that you defined:\n"
   ]
  },
  {
   "cell_type": "code",
   "execution_count": 18,
   "metadata": {},
   "outputs": [],
   "source": [
    "prompt = \"\"\"What is the exchange rate from Australian dollars to Swedish krona?\n",
    "How much is 500 Australian dollars worth in Swedish krona?\"\"\"\n",
    "\n",
    "response = model.generate_content(\n",
    "    prompt,\n",
    "    tools=[exchange_rate_tool],\n",
    ")"
   ]
  },
  {
   "cell_type": "markdown",
   "metadata": {},
   "source": [
    "Let's take a look at the response object:\n"
   ]
  },
  {
   "cell_type": "code",
   "execution_count": 19,
   "metadata": {},
   "outputs": [
    {
     "name": "stdout",
     "output_type": "stream",
     "text": [
      "role: \"model\"\n",
      "parts {\n",
      "  function_call {\n",
      "    name: \"get_exchange_rate\"\n",
      "    args {\n",
      "      fields {\n",
      "        key: \"currency_to\"\n",
      "        value {\n",
      "          string_value: \"SEK\"\n",
      "        }\n",
      "      }\n",
      "      fields {\n",
      "        key: \"currency_from\"\n",
      "        value {\n",
      "          string_value: \"AUD\"\n",
      "        }\n",
      "      }\n",
      "      fields {\n",
      "        key: \"currency_date\"\n",
      "        value {\n",
      "          string_value: \"latest\"\n",
      "        }\n",
      "      }\n",
      "    }\n",
      "  }\n",
      "}\n",
      "\n"
     ]
    }
   ],
   "source": [
    "print(response.candidates[0].content)"
   ]
  },
  {
   "cell_type": "markdown",
   "metadata": {},
   "source": [
    "It looks like the model selected the one available function and returned a function call for the `get_exchange_rate` function along with the parameters. And the parameters are in the correct format that we wanted. Hooray for getting structured responses from generative models!\n",
    "\n",
    "In the next section, you'll use the information in the response to make an API request.\n"
   ]
  },
  {
   "cell_type": "markdown",
   "metadata": {},
   "source": [
    "### 9. Make an API request\n",
    "\n",
    "Recall that function calling in Gemini does not actually make the external API call for you. Rather, you are free to use any language, library, or framework that you'd like!\n",
    "\n",
    "Here you'll use the `requests` library in Python to call the exchange rate REST API.\n",
    "\n",
    "Let's unpack the response into a Python dictionary:\n"
   ]
  },
  {
   "cell_type": "code",
   "execution_count": 20,
   "metadata": {},
   "outputs": [
    {
     "data": {
      "text/plain": [
       "{'from': 'AUD', 'date': 'latest', 'to': 'SEK'}"
      ]
     },
     "execution_count": 20,
     "metadata": {},
     "output_type": "execute_result"
    }
   ],
   "source": [
    "params = {}\n",
    "for key, value in response.candidates[0].content.parts[0].function_call.args.items():\n",
    "    params[key[9:]] = value\n",
    "params"
   ]
  },
  {
   "cell_type": "markdown",
   "metadata": {},
   "source": [
    "Now we can call requests or any other method:\n"
   ]
  },
  {
   "cell_type": "code",
   "execution_count": 21,
   "metadata": {},
   "outputs": [
    {
     "data": {
      "text/plain": [
       "'{\"amount\":1.0,\"base\":\"AUD\",\"date\":\"2025-01-22\",\"rates\":{\"SEK\":6.9066}}'"
      ]
     },
     "execution_count": 21,
     "metadata": {},
     "output_type": "execute_result"
    }
   ],
   "source": [
    "import requests\n",
    "\n",
    "url = f\"https://api.frankfurter.app/{params['date']}\"\n",
    "api_response = requests.get(url, params=params)\n",
    "api_response.text"
   ]
  },
  {
   "cell_type": "markdown",
   "metadata": {},
   "source": [
    "And we have our response from the REST API, with the latest exchange rate information from today. In the next section, we'll pass this information back to the model so that it can generate a relevant response for the user.\n"
   ]
  },
  {
   "cell_type": "markdown",
   "metadata": {},
   "source": [
    "### 10. Generate a response\n",
    "\n",
    "Finally, let's generate a response for the user by passing back the function response to the model in the next conversation turn:\n"
   ]
  },
  {
   "cell_type": "code",
   "execution_count": 23,
   "metadata": {},
   "outputs": [],
   "source": [
    "response = model.generate_content(\n",
    "    [\n",
    "        Content(\n",
    "            role=\"user\",\n",
    "            parts=[\n",
    "                Part.from_text(\n",
    "                    prompt\n",
    "                    + \"\"\"Give your answer in steps with lots of detail\n",
    "            and context, including the exchange rate and date.\"\"\"\n",
    "                ),\n",
    "            ],\n",
    "        ),\n",
    "        Content(\n",
    "            role=\"function\",\n",
    "            parts=[\n",
    "                Part.from_dict(\n",
    "                    {\n",
    "                        \"function_call\": {\n",
    "                            \"name\": \"get_exchange_rate\",\n",
    "                        }\n",
    "                    }\n",
    "                )\n",
    "            ],\n",
    "        ),\n",
    "        Content(\n",
    "            role=\"function\",\n",
    "            parts=[\n",
    "                Part.from_function_response(\n",
    "                    name=\"get_exchange_rate\",\n",
    "                    response={\n",
    "                        \"content\": api_response.text,\n",
    "                    },\n",
    "                )\n",
    "            ],\n",
    "        ),\n",
    "    ],\n",
    "    tools=[exchange_rate_tool],\n",
    ")"
   ]
  },
  {
   "cell_type": "markdown",
   "metadata": {},
   "source": [
    "Once we pass the function response back to the model, it will respond to the user's prompt along with relevant information from the API response.\n"
   ]
  },
  {
   "cell_type": "code",
   "execution_count": 24,
   "metadata": {},
   "outputs": [
    {
     "data": {
      "text/plain": [
       "'1. **Get the latest exchange rate:** I retrieved the latest exchange rate from our database.  The current exchange rate (as of January 22nd, 2025) is 1 Australian dollar (AUD) to 6.9066 Swedish krona (SEK). \\n\\n2. **Calculate the value of 500 AUD in SEK:**   Multiply the amount in AUD by the exchange rate:\\n\\n   500 AUD * 6.9066 SEK/AUD = 3453.30 SEK\\n\\n**Therefore, 500 Australian dollars are worth 3453.30 Swedish krona as of January 22nd, 2025.** \\n'"
      ]
     },
     "execution_count": 24,
     "metadata": {},
     "output_type": "execute_result"
    }
   ],
   "source": [
    "response.candidates[0].content.parts[0].text"
   ]
  },
  {
   "cell_type": "markdown",
   "metadata": {},
   "source": [
    "### 11. View the full code example\n",
    "\n",
    "At this point, you could put your Python code in a backend API using a Cloud Run service, a Cloud Function, or another Cloud service and deploy a frontend app that uses this backend API to perform model queries and API calls.\n",
    "\n",
    "Here's the full code example for our final solution:\n"
   ]
  },
  {
   "cell_type": "code",
   "execution_count": 25,
   "metadata": {},
   "outputs": [
    {
     "data": {
      "text/plain": [
       "'1. **Identify the exchange rate:** The provided exchange rate API response says that 1 Australian dollar (AUD) is equal to 6.9066 Swedish krona (SEK) on January 22, 2025. \\n\\n2. **Calculate the value of 500 AUD:** To find out how much 500 AUD is worth in SEK, we can multiply the amount in AUD by the exchange rate:\\n\\n   500 AUD * 6.9066 SEK/AUD = 3453.30 SEK\\n\\nTherefore, on January 22, 2025, 500 Australian dollars are worth **3453.30 Swedish krona**. \\n'"
      ]
     },
     "execution_count": 25,
     "metadata": {},
     "output_type": "execute_result"
    }
   ],
   "source": [
    "import requests\n",
    "from vertexai.generative_models import (\n",
    "    Content,\n",
    "    FunctionDeclaration,\n",
    "    GenerativeModel,\n",
    "    Part,\n",
    "    Tool,\n",
    ")\n",
    "\n",
    "model = GenerativeModel(\"gemini-1.5-pro-001\")\n",
    "\n",
    "get_exchange_rate_func = FunctionDeclaration(\n",
    "    name=\"get_exchange_rate\",\n",
    "    description=\"Get the exchange rate for currencies between countries\",\n",
    "    parameters={\n",
    "        \"type\": \"object\",\n",
    "        \"properties\": {\n",
    "            \"currency_date\": {\n",
    "                \"type\": \"string\",\n",
    "                \"description\": \"A date that must always be in YYYY-MM-DD format or the value 'latest' if a time period is not specified\",\n",
    "            },\n",
    "            \"currency_from\": {\n",
    "                \"type\": \"string\",\n",
    "                \"description\": \"The currency to convert from in ISO 4217 format\",\n",
    "            },\n",
    "            \"currency_to\": {\n",
    "                \"type\": \"string\",\n",
    "                \"description\": \"The currency to convert to in ISO 4217 format\",\n",
    "            },\n",
    "        },\n",
    "        \"required\": [\n",
    "            \"currency_from\",\n",
    "            \"currency_date\",\n",
    "        ],\n",
    "    },\n",
    ")\n",
    "\n",
    "exchange_rate_tool = Tool(\n",
    "    function_declarations=[get_exchange_rate_func],\n",
    ")\n",
    "\n",
    "prompt = \"\"\"What is the exchange rate from Australian dollars to Swedish krona?\n",
    "How much is 500 Australian dollars worth in Swedish krona?\"\"\"\n",
    "\n",
    "response = model.generate_content(\n",
    "    prompt,\n",
    "    tools=[exchange_rate_tool],\n",
    ")\n",
    "\n",
    "response.candidates[0].content\n",
    "\n",
    "params = {}\n",
    "for key, value in response.candidates[0].content.parts[0].function_call.args.items():\n",
    "    params[key[9:]] = value\n",
    "params\n",
    "\n",
    "import requests\n",
    "\n",
    "url = f\"https://api.frankfurter.app/{params['date']}\"\n",
    "api_response = requests.get(url, params=params)\n",
    "api_response.text\n",
    "\n",
    "response = model.generate_content(\n",
    "    [\n",
    "        Content(\n",
    "            role=\"user\",\n",
    "            parts=[\n",
    "                Part.from_text(\n",
    "                    prompt\n",
    "                    + \"\"\"Give your answer in steps with lots of detail\n",
    "            and context, including the exchange rate and date.\"\"\"\n",
    "                ),\n",
    "            ],\n",
    "        ),\n",
    "        Content(\n",
    "            role=\"function\",\n",
    "            parts=[\n",
    "                Part.from_dict(\n",
    "                    {\n",
    "                        \"function_call\": {\n",
    "                            \"name\": \"get_exchange_rate\",\n",
    "                        }\n",
    "                    }\n",
    "                )\n",
    "            ],\n",
    "        ),\n",
    "        Content(\n",
    "            role=\"function\",\n",
    "            parts=[\n",
    "                Part.from_function_response(\n",
    "                    name=\"get_exchange_rate\",\n",
    "                    response={\n",
    "                        \"content\": api_response.text,\n",
    "                    },\n",
    "                )\n",
    "            ],\n",
    "        ),\n",
    "    ],\n",
    "    tools=[exchange_rate_tool],\n",
    ")\n",
    "\n",
    "\n",
    "response.candidates[0].content.parts[0].text"
   ]
  },
  {
   "cell_type": "markdown",
   "metadata": {},
   "source": [
    "In this implementation, we used two requests to the generative model: one request to generate a function call and another request to return the function response. Note that this is only one method of handling function calls and function responses with Gemini. You can also make additional function calls to get more information for your query, or use function calling with chat and asynchronous methods.\n",
    "\n",
    "For additional code samples, refer to the [sample notebooks for function calling in Gemini](https://github.com/GoogleCloudPlatform/generative-ai/tree/main/gemini/function-calling).\n"
   ]
  }
 ],
 "metadata": {
  "kernelspec": {
   "display_name": "venv",
   "language": "python",
   "name": "python3"
  },
  "language_info": {
   "codemirror_mode": {
    "name": "ipython",
    "version": 3
   },
   "file_extension": ".py",
   "mimetype": "text/x-python",
   "name": "python",
   "nbconvert_exporter": "python",
   "pygments_lexer": "ipython3",
   "version": "3.12.3"
  }
 },
 "nbformat": 4,
 "nbformat_minor": 2
}
