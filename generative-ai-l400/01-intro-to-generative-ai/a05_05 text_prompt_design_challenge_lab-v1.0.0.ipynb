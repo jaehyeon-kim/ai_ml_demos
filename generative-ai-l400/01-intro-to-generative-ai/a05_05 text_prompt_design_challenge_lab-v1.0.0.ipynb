{
 "cells": [
  {
   "cell_type": "markdown",
   "metadata": {
    "id": "VEqbX8OhE8y9"
   },
   "source": [
    "# Generative AI with Vertex AI: Text Prompt Design: Challenge Lab\n",
    "\n",
    "## Overview\n",
    "\n",
    "This challenge lab is designed to test your knowledge of calling Gemini and utilizing a few fundamental text prompt design techniques.\n",
    "\n",
    "Two featured guides on prompting from the Google Cloud documentation are:\n",
    "\n",
    "1. [Overview of prompting strategies](https://cloud.google.com/vertex-ai/generative-ai/docs/learn/prompts/prompt-design-strategies) from the Generative AI on Vertex AI documentation.\n",
    "\n",
    "2. [Prompt design strategies](https://ai.google.dev/gemini-api/docs/prompting-strategies) from the Gemini API documentation.\n",
    "\n",
    "Both contain good tips. You are encouraged to **bookmark them**.\n",
    "\n",
    "## Objective\n",
    "\n",
    "You will demonstrate your ability to:\n",
    "\n",
    "- Initialize Vertex AI in your environment\n",
    "- Load a generative model\n",
    "- Guide model output with a persona\n",
    "- Extract information to a schema\n",
    "- Stay on topic with fallback responses\n",
    "- Use examples to influence the model's response\n",
    "\n",
    "Some of the following Python notebook cells have missing or incomplete code sections and tasks that need to be completed, indicated by the code comments starting with `# TODO`. Your challenge is to complete each cell, run it to test for correctness, and then move on. When all the cells are working, you have completed the challenge.\n",
    "\n",
    "**Note:** If you need help, [this notebook demonstrates getting started using Gemini in Python](https://github.com/GoogleCloudPlatform/generative-ai/blob/main/gemini/getting-started/intro_gemini_python.ipynb).\n"
   ]
  },
  {
   "cell_type": "markdown",
   "metadata": {
    "id": "N5afkyDMSBW5"
   },
   "source": [
    "## Task 1. Install, import & initialize the Vertex AI SDK and a generative model\n",
    "\n",
    "1. Install the Vertex AI SDK.\n"
   ]
  },
  {
   "cell_type": "code",
   "execution_count": 1,
   "metadata": {
    "id": "kc4WxYmLSBW5",
    "tags": []
   },
   "outputs": [
    {
     "name": "stdout",
     "output_type": "stream",
     "text": [
      "Requirement already satisfied: google-cloud-aiplatform in /opt/conda/lib/python3.10/site-packages (1.72.0)\n",
      "Requirement already satisfied: google-api-core!=2.0.*,!=2.1.*,!=2.2.*,!=2.3.*,!=2.4.*,!=2.5.*,!=2.6.*,!=2.7.*,<3.0.0dev,>=1.34.1 in /opt/conda/lib/python3.10/site-packages (from google-api-core[grpc]!=2.0.*,!=2.1.*,!=2.2.*,!=2.3.*,!=2.4.*,!=2.5.*,!=2.6.*,!=2.7.*,<3.0.0dev,>=1.34.1->google-cloud-aiplatform) (1.34.1)\n",
      "Requirement already satisfied: google-auth<3.0.0dev,>=2.14.1 in /opt/conda/lib/python3.10/site-packages (from google-cloud-aiplatform) (2.36.0)\n",
      "Requirement already satisfied: proto-plus<2.0.0dev,>=1.22.3 in /opt/conda/lib/python3.10/site-packages (from google-cloud-aiplatform) (1.25.0)\n",
      "Requirement already satisfied: protobuf!=4.21.0,!=4.21.1,!=4.21.2,!=4.21.3,!=4.21.4,!=4.21.5,<6.0.0dev,>=3.20.2 in /opt/conda/lib/python3.10/site-packages (from google-cloud-aiplatform) (3.20.3)\n",
      "Requirement already satisfied: packaging>=14.3 in /opt/conda/lib/python3.10/site-packages (from google-cloud-aiplatform) (24.1)\n",
      "Requirement already satisfied: google-cloud-storage<3.0.0dev,>=1.32.0 in /opt/conda/lib/python3.10/site-packages (from google-cloud-aiplatform) (2.14.0)\n",
      "Requirement already satisfied: google-cloud-bigquery!=3.20.0,<4.0.0dev,>=1.15.0 in /opt/conda/lib/python3.10/site-packages (from google-cloud-aiplatform) (3.25.0)\n",
      "Requirement already satisfied: google-cloud-resource-manager<3.0.0dev,>=1.3.3 in /opt/conda/lib/python3.10/site-packages (from google-cloud-aiplatform) (1.13.1)\n",
      "Requirement already satisfied: shapely<3.0.0dev in /opt/conda/lib/python3.10/site-packages (from google-cloud-aiplatform) (2.0.6)\n",
      "Requirement already satisfied: pydantic<3 in /opt/conda/lib/python3.10/site-packages (from google-cloud-aiplatform) (2.9.2)\n",
      "Requirement already satisfied: docstring-parser<1 in /opt/conda/lib/python3.10/site-packages (from google-cloud-aiplatform) (0.16)\n",
      "Requirement already satisfied: googleapis-common-protos<2.0dev,>=1.56.2 in /opt/conda/lib/python3.10/site-packages (from google-api-core!=2.0.*,!=2.1.*,!=2.2.*,!=2.3.*,!=2.4.*,!=2.5.*,!=2.6.*,!=2.7.*,<3.0.0dev,>=1.34.1->google-api-core[grpc]!=2.0.*,!=2.1.*,!=2.2.*,!=2.3.*,!=2.4.*,!=2.5.*,!=2.6.*,!=2.7.*,<3.0.0dev,>=1.34.1->google-cloud-aiplatform) (1.66.0)\n",
      "Requirement already satisfied: requests<3.0.0dev,>=2.18.0 in /opt/conda/lib/python3.10/site-packages (from google-api-core!=2.0.*,!=2.1.*,!=2.2.*,!=2.3.*,!=2.4.*,!=2.5.*,!=2.6.*,!=2.7.*,<3.0.0dev,>=1.34.1->google-api-core[grpc]!=2.0.*,!=2.1.*,!=2.2.*,!=2.3.*,!=2.4.*,!=2.5.*,!=2.6.*,!=2.7.*,<3.0.0dev,>=1.34.1->google-cloud-aiplatform) (2.32.3)\n",
      "Requirement already satisfied: grpcio<2.0dev,>=1.33.2 in /opt/conda/lib/python3.10/site-packages (from google-api-core[grpc]!=2.0.*,!=2.1.*,!=2.2.*,!=2.3.*,!=2.4.*,!=2.5.*,!=2.6.*,!=2.7.*,<3.0.0dev,>=1.34.1->google-cloud-aiplatform) (1.68.0)\n",
      "Requirement already satisfied: grpcio-status<2.0dev,>=1.33.2 in /opt/conda/lib/python3.10/site-packages (from google-api-core[grpc]!=2.0.*,!=2.1.*,!=2.2.*,!=2.3.*,!=2.4.*,!=2.5.*,!=2.6.*,!=2.7.*,<3.0.0dev,>=1.34.1->google-cloud-aiplatform) (1.48.2)\n",
      "Requirement already satisfied: cachetools<6.0,>=2.0.0 in /opt/conda/lib/python3.10/site-packages (from google-auth<3.0.0dev,>=2.14.1->google-cloud-aiplatform) (5.5.0)\n",
      "Requirement already satisfied: pyasn1-modules>=0.2.1 in /opt/conda/lib/python3.10/site-packages (from google-auth<3.0.0dev,>=2.14.1->google-cloud-aiplatform) (0.4.1)\n",
      "Requirement already satisfied: rsa<5,>=3.1.4 in /opt/conda/lib/python3.10/site-packages (from google-auth<3.0.0dev,>=2.14.1->google-cloud-aiplatform) (4.9)\n",
      "Requirement already satisfied: google-cloud-core<3.0.0dev,>=1.6.0 in /opt/conda/lib/python3.10/site-packages (from google-cloud-bigquery!=3.20.0,<4.0.0dev,>=1.15.0->google-cloud-aiplatform) (2.4.1)\n",
      "Requirement already satisfied: google-resumable-media<3.0dev,>=0.6.0 in /opt/conda/lib/python3.10/site-packages (from google-cloud-bigquery!=3.20.0,<4.0.0dev,>=1.15.0->google-cloud-aiplatform) (2.7.2)\n",
      "Requirement already satisfied: python-dateutil<3.0dev,>=2.7.2 in /opt/conda/lib/python3.10/site-packages (from google-cloud-bigquery!=3.20.0,<4.0.0dev,>=1.15.0->google-cloud-aiplatform) (2.9.0.post0)\n",
      "Requirement already satisfied: grpc-google-iam-v1<1.0.0dev,>=0.12.4 in /opt/conda/lib/python3.10/site-packages (from google-cloud-resource-manager<3.0.0dev,>=1.3.3->google-cloud-aiplatform) (0.13.1)\n",
      "Requirement already satisfied: google-crc32c<2.0dev,>=1.0 in /opt/conda/lib/python3.10/site-packages (from google-cloud-storage<3.0.0dev,>=1.32.0->google-cloud-aiplatform) (1.6.0)\n",
      "Requirement already satisfied: annotated-types>=0.6.0 in /opt/conda/lib/python3.10/site-packages (from pydantic<3->google-cloud-aiplatform) (0.7.0)\n",
      "Requirement already satisfied: pydantic-core==2.23.4 in /opt/conda/lib/python3.10/site-packages (from pydantic<3->google-cloud-aiplatform) (2.23.4)\n",
      "Requirement already satisfied: typing-extensions>=4.6.1 in /opt/conda/lib/python3.10/site-packages (from pydantic<3->google-cloud-aiplatform) (4.12.2)\n",
      "Requirement already satisfied: numpy<3,>=1.14 in /opt/conda/lib/python3.10/site-packages (from shapely<3.0.0dev->google-cloud-aiplatform) (1.26.4)\n",
      "Requirement already satisfied: pyasn1<0.7.0,>=0.4.6 in /opt/conda/lib/python3.10/site-packages (from pyasn1-modules>=0.2.1->google-auth<3.0.0dev,>=2.14.1->google-cloud-aiplatform) (0.6.1)\n",
      "Requirement already satisfied: six>=1.5 in /opt/conda/lib/python3.10/site-packages (from python-dateutil<3.0dev,>=2.7.2->google-cloud-bigquery!=3.20.0,<4.0.0dev,>=1.15.0->google-cloud-aiplatform) (1.16.0)\n",
      "Requirement already satisfied: charset-normalizer<4,>=2 in /opt/conda/lib/python3.10/site-packages (from requests<3.0.0dev,>=2.18.0->google-api-core!=2.0.*,!=2.1.*,!=2.2.*,!=2.3.*,!=2.4.*,!=2.5.*,!=2.6.*,!=2.7.*,<3.0.0dev,>=1.34.1->google-api-core[grpc]!=2.0.*,!=2.1.*,!=2.2.*,!=2.3.*,!=2.4.*,!=2.5.*,!=2.6.*,!=2.7.*,<3.0.0dev,>=1.34.1->google-cloud-aiplatform) (3.4.0)\n",
      "Requirement already satisfied: idna<4,>=2.5 in /opt/conda/lib/python3.10/site-packages (from requests<3.0.0dev,>=2.18.0->google-api-core!=2.0.*,!=2.1.*,!=2.2.*,!=2.3.*,!=2.4.*,!=2.5.*,!=2.6.*,!=2.7.*,<3.0.0dev,>=1.34.1->google-api-core[grpc]!=2.0.*,!=2.1.*,!=2.2.*,!=2.3.*,!=2.4.*,!=2.5.*,!=2.6.*,!=2.7.*,<3.0.0dev,>=1.34.1->google-cloud-aiplatform) (3.10)\n",
      "Requirement already satisfied: urllib3<3,>=1.21.1 in /opt/conda/lib/python3.10/site-packages (from requests<3.0.0dev,>=2.18.0->google-api-core!=2.0.*,!=2.1.*,!=2.2.*,!=2.3.*,!=2.4.*,!=2.5.*,!=2.6.*,!=2.7.*,<3.0.0dev,>=1.34.1->google-api-core[grpc]!=2.0.*,!=2.1.*,!=2.2.*,!=2.3.*,!=2.4.*,!=2.5.*,!=2.6.*,!=2.7.*,<3.0.0dev,>=1.34.1->google-cloud-aiplatform) (1.26.20)\n",
      "Requirement already satisfied: certifi>=2017.4.17 in /opt/conda/lib/python3.10/site-packages (from requests<3.0.0dev,>=2.18.0->google-api-core!=2.0.*,!=2.1.*,!=2.2.*,!=2.3.*,!=2.4.*,!=2.5.*,!=2.6.*,!=2.7.*,<3.0.0dev,>=1.34.1->google-api-core[grpc]!=2.0.*,!=2.1.*,!=2.2.*,!=2.3.*,!=2.4.*,!=2.5.*,!=2.6.*,!=2.7.*,<3.0.0dev,>=1.34.1->google-cloud-aiplatform) (2024.8.30)\n"
     ]
    }
   ],
   "source": [
    "# TODO: Complete the following pip command\n",
    "!pip install google-cloud-aiplatform"
   ]
  },
  {
   "cell_type": "markdown",
   "metadata": {
    "id": "BuQwwRiniVFG"
   },
   "source": [
    "2. Restart your notebook kernel.\n",
    "3. Import the following:\n",
    "\n",
    "- the Vertex AI SDK\n",
    "- the class to instantiate a generative model from the Vertex AI generative models module\n"
   ]
  },
  {
   "cell_type": "code",
   "execution_count": 3,
   "metadata": {
    "id": "kpdnPWaTK27C",
    "tags": []
   },
   "outputs": [],
   "source": [
    "# TODO: Complete the imports\n",
    "import vertexai\n",
    "from vertexai.generative_models import GenerativeModel, GenerationConfig"
   ]
  },
  {
   "cell_type": "markdown",
   "metadata": {
    "id": "6Fom0ZkMSBW6"
   },
   "source": [
    "4. Initialize Vertex AI with your project ID and a location (you can use like `us-central1`).\n"
   ]
  },
  {
   "cell_type": "code",
   "execution_count": 4,
   "metadata": {
    "id": "LCaCx6PLSBW6",
    "tags": []
   },
   "outputs": [],
   "source": [
    "# TODO: Insert the required steps here\n",
    "PROJECT_ID = \"qwiklabs-gcp-03-7ec081d16b49\"\n",
    "LOCATION = \"us-central1\"\n",
    "vertexai.init(project=PROJECT_ID, location=LOCATION)\n"
   ]
  },
  {
   "cell_type": "markdown",
   "metadata": {
    "id": "O8DUcgKJK27C"
   },
   "source": [
    "5. Instantiate a generative model and save it to the `generative_model` variable. For this notebook, use `gemini-pro` as your model version. When instantiating the model, pass a `generation_config` parameter with the temperature set to 0.\n"
   ]
  },
  {
   "cell_type": "code",
   "execution_count": 5,
   "metadata": {
    "id": "2998506fe6d1",
    "tags": []
   },
   "outputs": [],
   "source": [
    "# TODO: Insantiate a \"gemini-pro\" model with a configured temperature of 0.\n",
    "generation_config = GenerationConfig(temperature=0)\n",
    "generative_model = GenerativeModel(\"gemini-pro\", generation_config=generation_config)"
   ]
  },
  {
   "cell_type": "markdown",
   "metadata": {
    "id": "h3YN2rf1K27C"
   },
   "source": [
    "6. Complete the TODO's in this function, which you will use for the rest of the lab:\n"
   ]
  },
  {
   "cell_type": "code",
   "execution_count": 6,
   "metadata": {
    "id": "joXl2V2JK27D",
    "tags": []
   },
   "outputs": [],
   "source": [
    "def print_response(prompt):\n",
    "    # TODO: Complete this line to generate a response to the prompt:\n",
    "    response = generative_model.generate_content(prompt)\n",
    "\n",
    "    # TODO: Complete this line to print only the text of the model's response,\n",
    "    # not the additional response metadata.\n",
    "    print(response.text)"
   ]
  },
  {
   "cell_type": "markdown",
   "metadata": {
    "id": "kEAJ0ipmbndQ"
   },
   "source": [
    "## Task 2. Personas\n",
    "\n",
    "1. Run the following cell to see the default response to this prompt.\n",
    "\n",
    "2. Then tweak the prompt by asking the model to take on the persona of an **energetic, inspiring personal trainer** who can get users **excited to work out their leg muscles**. Note the difference in vocabulary and tone.\n"
   ]
  },
  {
   "cell_type": "code",
   "execution_count": 9,
   "metadata": {
    "id": "UEo0QhauK27D",
    "tags": []
   },
   "outputs": [
    {
     "name": "stdout",
     "output_type": "stream",
     "text": [
      "Alright, let's get those legs burning! \n",
      "\n",
      "## Leg Day: Your Path to Powerful Pins\n",
      "\n",
      "Get ready to sculpt some serious strength and definition in your lower body with these awesome leg exercises:\n",
      "\n",
      "**Warm-up:**\n",
      "\n",
      "* **5 minutes of light cardio:** Get your blood flowing and joints lubricated with some jumping jacks, high knees, or jogging on the spot.\n",
      "* **Dynamic stretches:** Prepare your muscles for action with lunges, leg swings, and hip circles.\n",
      "\n",
      "**Main Course:**\n",
      "\n",
      "* **Squats:** The king of leg exercises! Target your quads, glutes, and hamstrings with bodyweight squats, or add some weights for an extra challenge. \n",
      "* **Lunges:** Work your balance and coordination while strengthening your quads, glutes, and hamstrings with forward lunges, reverse lunges, or side lunges.\n",
      "* **Deadlifts:** Build explosive power and engage your entire posterior chain with this compound exercise. Start with lighter weights and focus on proper form.\n",
      "* **Leg press:** Hit your quads and glutes with this machine-based exercise. Adjust the weight and foot placement to target different areas.\n",
      "* **Hamstring curls:** Isolate and strengthen your hamstrings with this exercise. You can use a machine, resistance bands, or even just your bodyweight.\n",
      "* **Calf raises:** Don't forget your calves! Build definition and strength with standing or seated calf raises.\n",
      "\n",
      "**Cool-down:**\n",
      "\n",
      "* **5 minutes of static stretches:** Hold each stretch for 30 seconds to improve flexibility and prevent soreness.\n",
      "\n",
      "**Remember:**\n",
      "\n",
      "* **Focus on form:** Proper form is crucial to prevent injuries and maximize results. Watch videos, ask a trainer for guidance, and don't hesitate to modify exercises if needed.\n",
      "* **Progressive overload:** Gradually increase the weight, reps, or sets over time to keep challenging your muscles and see continuous progress.\n",
      "* **Listen to your body:** Take rest days when needed, and don't push yourself to the point of pain.\n",
      "\n",
      "**Bonus:**\n",
      "\n",
      "* **HIIT workouts:** High-intensity interval training can be a great way to burn fat and build muscle in your legs. Try incorporating exercises like jump squats, burpees, and mountain climbers into your routine.\n",
      "* **Plyometrics:** Explosive exercises like box jumps and jump lunges can help you build power and speed.\n",
      "\n",
      "Now get out there and crush your leg workout! Remember, every rep is a step closer to those strong, sculpted legs you've been dreaming of. \n",
      "\n",
      "Let's go! \n",
      "\n"
     ]
    }
   ],
   "source": [
    "# TODO: Improve the personality of the response by assigning the suggested persona.\n",
    "prompt = \"\"\"\n",
    "You are an energetic, inspiring personal trainer who can get users excited to work out their leg muscles. \n",
    "What are some good leg exercises?\n",
    "\"\"\"\n",
    "\n",
    "print_response(prompt)"
   ]
  },
  {
   "cell_type": "markdown",
   "metadata": {
    "id": "ueKZMheeK27D"
   },
   "source": [
    "## Task 3. Be specific + constrain the output format\n",
    "\n",
    "1. Have the model convert the following text of cooking ingredients to a YAML format. Each ingredient should be listed as a dictionary with keys for **ingredient** and **quantity** populated with the correct value given the ingredients in the following recipe:\n"
   ]
  },
  {
   "cell_type": "code",
   "execution_count": 10,
   "metadata": {
    "id": "qyJASDrsK27D",
    "tags": []
   },
   "outputs": [
    {
     "name": "stdout",
     "output_type": "stream",
     "text": [
      "## Ingredients:\n",
      "\n",
      "```yaml\n",
      "- ingredient: egg whites\n",
      "  quantity: 9\n",
      "- ingredient: Cream of Tartar\n",
      "  quantity: 3/8 tsp\n",
      "- ingredient: Vinegar\n",
      "  quantity: 1 1/2 tbs\n",
      "- ingredient: Vanilla\n",
      "  quantity: 1 1/2 tsp\n",
      "- ingredient: Sugar\n",
      "  quantity: 3 cups\n",
      "- ingredient: Heavy whipping cream\n",
      "  quantity: 1 quarts\n",
      "- ingredient: Strawberries\n",
      "  quantity: 3 boxes\n",
      "``` \n",
      "\n"
     ]
    }
   ],
   "source": [
    "# TODO: Write instructions to complete the task.\n",
    "instructions = \"\"\"\n",
    "    <INSTRUCTIONS>\n",
    "    - Extract the ingredients to YAML\n",
    "    - Each ingredient should be listed as a dictionary with keys for ingredient and quantity\n",
    "    </INSTRUCTIONS>\n",
    "\"\"\"\n",
    "\n",
    "ingredients = \"\"\"\n",
    "    Ingredients:\n",
    "    * 9 egg whites\n",
    "    * 3/8 tsp Cream of Tartar\n",
    "    * 1 1/2 tbs Vinegar\n",
    "    * 1 1/2 tsp Vanilla\n",
    "    * 3 cups Sugar\n",
    "    * 1 quarts Heavy whipping cream\n",
    "    * 3 boxes Strawberries\n",
    "    \"\"\"\n",
    "\n",
    "prompt = instructions + \"\\n\\n\" + ingredients\n",
    "\n",
    "print_response(prompt)"
   ]
  },
  {
   "cell_type": "markdown",
   "metadata": {
    "id": "6xRk8HTLK27D"
   },
   "source": [
    "## Task 4. Use a fallback response\n",
    "\n",
    "1. Adjust the prompt below to specify that the model should only answer questions related to historical landmarks. If a user askes about something else, the model should respond with the message: `Sorry, I only answer questions about historical landmarks!`\n",
    "\n",
    "2. Adjust your instructions until the model declines to answer the `user_query` below.\n"
   ]
  },
  {
   "cell_type": "code",
   "execution_count": 12,
   "metadata": {
    "id": "6InaQ3OpK27D",
    "tags": []
   },
   "outputs": [
    {
     "name": "stdout",
     "output_type": "stream",
     "text": [
      "Sorry, I only answer questions about historical landmarks!\n"
     ]
    }
   ],
   "source": [
    "# TODO: Add instructions to prompt a fallback response for off-topic queries.\n",
    "\n",
    "instructions = \"\"\"\n",
    "    Instructions: Answer questions questions related to historical landmarks.\n",
    "    If a user asks about something else, reply with:\n",
    "    Sorry, I only answer questions about historical landmarks!\n",
    "    \n",
    "    You are a history tour guide. Answer the user's question: {user_query}\n",
    "    \"\"\"\n",
    "\n",
    "user_query = \"How can I attract butterflies to my garden?\"\n",
    "\n",
    "print_response(instructions.format(user_query=user_query))"
   ]
  },
  {
   "cell_type": "markdown",
   "metadata": {
    "id": "gFolKJjNK27D"
   },
   "source": [
    "## Task 5. Make results more specific with examples\n",
    "\n",
    "1. Run the code cell below to see the model's response as-is.\n",
    "\n",
    "2. Imagining you work for a bicycle tour company, modify each of the example outputs below to include a bicycle.\n",
    "\n",
    "3. Re-run the code cell to make sure the model generates a bicycle-themed response. Leave the instructions alone and tweak your examples until you get such a response.\n"
   ]
  },
  {
   "cell_type": "code",
   "execution_count": 16,
   "metadata": {
    "id": "zsjp39ZWK27D",
    "tags": []
   },
   "outputs": [
    {
     "name": "stdout",
     "output_type": "stream",
     "text": [
      "Ride your bicycle to the Bangalore Palace, a beautiful example of Tudor architecture. Then, head to Cubbon Park, a large green space in the heart of the city. Finally, visit the Visvesvaraya Industrial & Technological Museum, a great place to learn about the history of science and technology in India.\n"
     ]
    }
   ],
   "source": [
    "# TODO: Modify the examples below to guide the model to always generate\n",
    "# recommendations involving bicycles.\n",
    "\n",
    "prompt = \"\"\"\n",
    "    <INSTRUCTIONS>\n",
    "    Give a tourist recommendation for the input city.\n",
    "    </INSTRUCTIONS>\n",
    "\n",
    "    <EXAMPLES>\n",
    "    Input: Paris\n",
    "    Output: Ride on a bicycle to the Louvre and then to Montmartre.\n",
    "\n",
    "    Input: Washington D.C.\n",
    "    Output: Take your bicycle to the Lincoln Memorial.\n",
    "\n",
    "    Input: New York City\n",
    "    Output: Ride on a bicycle along the river.\n",
    "    </EXAMPLES>\n",
    "\n",
    "    <INPUT CITY>\n",
    "    Bangalore\n",
    "    </INPUT CITY>\"\"\"\n",
    "\n",
    "print_response(prompt)"
   ]
  },
  {
   "cell_type": "markdown",
   "metadata": {
    "id": "LvbIXnwqK27D"
   },
   "source": [
    "## Congratulations!\n",
    "\n",
    "If you have completed the steps above, you have demonstrated your ability to use several prompt engineering techniques.\n"
   ]
  }
 ],
 "metadata": {
  "colab": {
   "name": "text_prompt_design_challenge_lab.ipynb",
   "provenance": [],
   "toc_visible": true
  },
  "environment": {
   "kernel": "conda-base-py",
   "name": "workbench-notebooks.m126",
   "type": "gcloud",
   "uri": "us-docker.pkg.dev/deeplearning-platform-release/gcr.io/workbench-notebooks:m126"
  },
  "kernelspec": {
   "display_name": "Python 3 (ipykernel) (Local)",
   "language": "python",
   "name": "conda-base-py"
  },
  "language_info": {
   "codemirror_mode": {
    "name": "ipython",
    "version": 3
   },
   "file_extension": ".py",
   "mimetype": "text/x-python",
   "name": "python",
   "nbconvert_exporter": "python",
   "pygments_lexer": "ipython3",
   "version": "3.10.15"
  }
 },
 "nbformat": 4,
 "nbformat_minor": 4
}
